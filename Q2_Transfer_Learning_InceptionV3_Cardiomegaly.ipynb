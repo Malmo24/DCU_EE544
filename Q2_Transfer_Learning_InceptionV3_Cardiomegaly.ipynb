{
  "nbformat": 4,
  "nbformat_minor": 0,
  "metadata": {
    "colab": {
      "name": "Q2_Transfer Learning_InceptionV3_Cardiomegaly.ipynb",
      "version": "0.3.2",
      "provenance": [],
      "collapsed_sections": []
    },
    "kernelspec": {
      "name": "python3",
      "display_name": "Python 3"
    },
    "accelerator": "GPU"
  },
  "cells": [
    {
      "metadata": {
        "id": "zgOX1YRBMUEg",
        "colab_type": "code",
        "colab": {}
      },
      "cell_type": "code",
      "source": [
        "import os\n",
        "import matplotlib.pyplot as plt\n",
        "import numpy as np"
      ],
      "execution_count": 0,
      "outputs": []
    },
    {
      "metadata": {
        "id": "d3OBC6yiMUEl",
        "colab_type": "code",
        "outputId": "c46cba8e-080d-471f-a650-25d85d890b75",
        "colab": {
          "base_uri": "https://localhost:8080/",
          "height": 34
        }
      },
      "cell_type": "code",
      "source": [
        "# import models\n",
        "from keras.models import Sequential\n",
        "from keras.layers import Dense, MaxPooling2D, Conv2D, Flatten, Dropout,AlphaDropout,GlobalAveragePooling2D\n",
        "from keras.layers import LeakyReLU \n",
        "from keras.layers import Activation\n",
        "from keras import optimizers\n",
        "from keras.constraints import maxnorm\n",
        "from keras_preprocessing.image import ImageDataGenerator\n",
        "from keras.utils import plot_model\n",
        "from keras.layers.convolutional import Convolution2D, MaxPooling2D, ZeroPadding2D\n",
        "from keras.applications.inception_v3 import inception_v3"
      ],
      "execution_count": 0,
      "outputs": [
        {
          "output_type": "stream",
          "text": [
            "Using TensorFlow backend.\n"
          ],
          "name": "stderr"
        }
      ]
    },
    {
      "metadata": {
        "id": "Xj2tThGGb8kv",
        "colab_type": "code",
        "outputId": "8e2d063b-4de2-4e27-e6de-eb7fdc5f77a9",
        "colab": {
          "base_uri": "https://localhost:8080/",
          "height": 51
        }
      },
      "cell_type": "code",
      "source": [
        "# Load the Drive helper and mount\n",
        "from google.colab import drive\n",
        "drive.mount('/content/drive', force_remount=True)\n",
        "\n",
        "# load data from google drive\n",
        "base_dir = \"/content/drive/My Drive/Colab Notebooks/imgdata_299\"\n",
        "train_dir = os.path.join(base_dir,'train')\n",
        "validation_dir = os.path.join(base_dir,'validation')\n",
        "test_dir = os.path.join(base_dir,'test')\n",
        "bestwt_file1 = os.path.join(base_dir,'model.best1_wts.hdf5')\n",
        "bestwt_file2 = os.path.join(base_dir,'model.best2_wts.hdf5')\n",
        "print(test_dir)"
      ],
      "execution_count": 0,
      "outputs": [
        {
          "output_type": "stream",
          "text": [
            "Mounted at /content/drive\n",
            "/content/drive/My Drive/Colab Notebooks/imgdata_299/test\n"
          ],
          "name": "stdout"
        }
      ]
    },
    {
      "metadata": {
        "id": "UQTbYZqpNyGm",
        "colab_type": "code",
        "outputId": "0479aa9f-3114-4d82-ed3f-4e63ad58f3a6",
        "colab": {
          "base_uri": "https://localhost:8080/",
          "height": 88
        }
      },
      "cell_type": "code",
      "source": [
        "from keras.applications.inception_v3 import InceptionV3\n",
        "from keras.models import Model\n",
        "from keras.layers import BatchNormalization\n",
        "import keras.initializers as initz\n",
        "base_model = InceptionV3(weights='imagenet', include_top=False, input_shape=(299,299,3))\n",
        "\n",
        "# base_model.summary()\n"
      ],
      "execution_count": 0,
      "outputs": [
        {
          "output_type": "stream",
          "text": [
            "WARNING:tensorflow:From /usr/local/lib/python3.6/dist-packages/tensorflow/python/framework/op_def_library.py:263: colocate_with (from tensorflow.python.framework.ops) is deprecated and will be removed in a future version.\n",
            "Instructions for updating:\n",
            "Colocations handled automatically by placer.\n"
          ],
          "name": "stdout"
        }
      ]
    },
    {
      "metadata": {
        "id": "EuEn4FPNuirI",
        "colab_type": "code",
        "outputId": "78be4036-5552-401d-dfff-86e4beb2b8f0",
        "colab": {
          "base_uri": "https://localhost:8080/",
          "height": 122
        }
      },
      "cell_type": "code",
      "source": [
        "# use inceptionV3 layer as base_model\n",
        "out = base_model.output\n",
        "\n",
        "# add on the FC layer and final classification layer\n",
        "out = Flatten()(out)\n",
        "out = Dense(1024, activation='relu', kernel_initializer=initz.he_uniform())(out)\n",
        "out = Dropout(0.5)(out)\n",
        "out = Dense(256, activation='relu', kernel_initializer=initz.he_uniform())(out)\n",
        "out = Dropout(0.25)(out)\n",
        "predictions = Dense(2,activation='softmax')(out)\n",
        "\n",
        "# glue on final layer to InceptionV3 base_model\n",
        "model = Model(inputs=base_model.input,output=predictions)\n",
        "\n",
        "# check model\n",
        "# model.summary()"
      ],
      "execution_count": 0,
      "outputs": [
        {
          "output_type": "stream",
          "text": [
            "WARNING:tensorflow:From /usr/local/lib/python3.6/dist-packages/keras/backend/tensorflow_backend.py:3445: calling dropout (from tensorflow.python.ops.nn_ops) with keep_prob is deprecated and will be removed in a future version.\n",
            "Instructions for updating:\n",
            "Please use `rate` instead of `keep_prob`. Rate should be set to `rate = 1 - keep_prob`.\n"
          ],
          "name": "stdout"
        },
        {
          "output_type": "stream",
          "text": [
            "/usr/local/lib/python3.6/dist-packages/ipykernel_launcher.py:12: UserWarning: Update your `Model` call to the Keras 2 API: `Model(inputs=Tensor(\"in..., outputs=Tensor(\"de...)`\n",
            "  if sys.path[0] == '':\n"
          ],
          "name": "stderr"
        }
      ]
    },
    {
      "metadata": {
        "id": "tovOoZJTuySO",
        "colab_type": "code",
        "outputId": "fe206df2-ec4a-40e4-a533-633c457dc5e8",
        "colab": {
          "base_uri": "https://localhost:8080/",
          "height": 34
        }
      },
      "cell_type": "code",
      "source": [
        "# train the top 2 inception blocks, i.e. we will freeze\n",
        "# the first 249 layers and unfreeze the rest:\n",
        "\n",
        "no_frozen = no_trainable = 0\n",
        "\n",
        "## freeze all layers up to and including mixed8\n",
        "for layer in model.layers[:249]:\n",
        "  layer.trainable = False\n",
        "  no_frozen+=1\n",
        "  \n",
        "## train last layers, starting with conv2d_929 (Conv2D) to the end\n",
        "for layer in model.layers[249:]:\n",
        "  layer.trainable = True\n",
        "  no_trainable+=1\n",
        "\n",
        "print('#Frozen layers = ',no_frozen,' ;  #Trainable layers = ',no_trainable)\n",
        "\n",
        "# check the complete model\n",
        "# print(model.summary())"
      ],
      "execution_count": 0,
      "outputs": [
        {
          "output_type": "stream",
          "text": [
            "#Frozen layers =  249  ;  #Trainable layers =  68\n"
          ],
          "name": "stdout"
        }
      ]
    },
    {
      "metadata": {
        "id": "R11XlcSiMUEx",
        "colab_type": "code",
        "colab": {}
      },
      "cell_type": "code",
      "source": [
        "# Using ImageDataGenerator to read images from directories\n",
        "# all images will be rescaled to be between -1 & +1\n",
        "# this is the preprocessing done by F. Chollet for the Inception_v3 network.\n",
        "\n",
        "train_datagen = ImageDataGenerator(rescale=1./255.,\n",
        "                                   rotation_range=15,\n",
        "                                   zoom_range=0.2,\n",
        "                                   width_shift_range=0.2,\n",
        "                                   height_shift_range=0.2,\n",
        "                                   horizontal_flip=True,\n",
        "                                 #  vertical_flip=True,\n",
        "                                   fill_mode='nearest') \n",
        "validation_datagen = ImageDataGenerator(rescale=1./255.)\n",
        "test_datagen = ImageDataGenerator(rescale=1./255.)\n",
        "\n",
        "trn_batch_size = 64\n",
        "val_batch_size = 16\n",
        "tst_batch_size = 1"
      ],
      "execution_count": 0,
      "outputs": []
    },
    {
      "metadata": {
        "id": "FJIIdIaODMnN",
        "colab_type": "code",
        "colab": {}
      },
      "cell_type": "code",
      "source": [
        ""
      ],
      "execution_count": 0,
      "outputs": []
    },
    {
      "metadata": {
        "id": "I82ctP9xMUEz",
        "colab_type": "code",
        "outputId": "399dfd16-82b4-4b34-d60f-eb94f4b96fe5",
        "colab": {
          "base_uri": "https://localhost:8080/",
          "height": 34
        }
      },
      "cell_type": "code",
      "source": [
        "train_generator = train_datagen.flow_from_directory(\n",
        "    train_dir,\n",
        "    target_size=(299,299),\n",
        "    batch_size=trn_batch_size, # 64,\n",
        "    class_mode='categorical')"
      ],
      "execution_count": 0,
      "outputs": [
        {
          "output_type": "stream",
          "text": [
            "Found 1600 images belonging to 2 classes.\n"
          ],
          "name": "stdout"
        }
      ]
    },
    {
      "metadata": {
        "id": "gQFKppAOMUE1",
        "colab_type": "code",
        "outputId": "c54e6e14-f1aa-41ac-f7c5-5f561c734269",
        "colab": {
          "base_uri": "https://localhost:8080/",
          "height": 34
        }
      },
      "cell_type": "code",
      "source": [
        "validation_generator = validation_datagen.flow_from_directory(\n",
        "    validation_dir,\n",
        "    target_size=(299,299),\n",
        "    batch_size=val_batch_size, # 32,\n",
        "    class_mode ='categorical')"
      ],
      "execution_count": 0,
      "outputs": [
        {
          "output_type": "stream",
          "text": [
            "Found 384 images belonging to 2 classes.\n"
          ],
          "name": "stdout"
        }
      ]
    },
    {
      "metadata": {
        "id": "JMjUj9jFMUE4",
        "colab_type": "code",
        "outputId": "53aba879-ac99-4d04-c7e1-a99c91c70b05",
        "colab": {
          "base_uri": "https://localhost:8080/",
          "height": 34
        }
      },
      "cell_type": "code",
      "source": [
        "test_generator = test_datagen.flow_from_directory(\n",
        "    test_dir,\n",
        "    target_size=(299,299),\n",
        "    batch_size=tst_batch_size, # 200,\n",
        "    class_mode='categorical')\n"
      ],
      "execution_count": 0,
      "outputs": [
        {
          "output_type": "stream",
          "text": [
            "Found 200 images belonging to 2 classes.\n"
          ],
          "name": "stdout"
        }
      ]
    },
    {
      "metadata": {
        "id": "DW9m6IatMUE6",
        "colab_type": "code",
        "colab": {}
      },
      "cell_type": "code",
      "source": [
        "from keras import callbacks as cb\n",
        "\n",
        "# stage1: parameter setup\n",
        "es = cb.EarlyStopping(monitor='val_acc', mode='max', verbose=1, patience=50)\n",
        "bestwgt = cb.ModelCheckpoint(filepath=bestwt_file1, monitor='val_acc', mode='max', verbose=0, save_best_only=True)\n",
        "model.compile(optimizer=optimizers.SGD(lr=0.001, momentum=0.9, decay=1e-4, nesterov=False), loss='categorical_crossentropy', metrics=['accuracy'])\n"
      ],
      "execution_count": 0,
      "outputs": []
    },
    {
      "metadata": {
        "id": "Hj1Q3aVgMUE8",
        "colab_type": "code",
        "outputId": "5e298a7a-71c2-4716-e84b-1aa842d327b4",
        "colab": {
          "base_uri": "https://localhost:8080/",
          "height": 3488
        }
      },
      "cell_type": "code",
      "source": [
        "# ---- 1st stage training\n",
        "history = model.fit_generator(\n",
        "    train_generator,\n",
        "    steps_per_epoch=1600 // trn_batch_size,\n",
        "    epochs=100,\n",
        "    validation_data=validation_generator,\n",
        "    validation_steps=384 // val_batch_size,\n",
        "    callbacks=[es, bestwgt], shuffle=True)\n"
      ],
      "execution_count": 0,
      "outputs": [
        {
          "output_type": "stream",
          "text": [
            "WARNING:tensorflow:From /usr/local/lib/python3.6/dist-packages/tensorflow/python/ops/math_ops.py:3066: to_int32 (from tensorflow.python.ops.math_ops) is deprecated and will be removed in a future version.\n",
            "Instructions for updating:\n",
            "Use tf.cast instead.\n",
            "Epoch 1/100\n",
            "25/25 [==============================] - 58s 2s/step - loss: 0.8833 - acc: 0.5388 - val_loss: 0.9027 - val_acc: 0.5000\n",
            "Epoch 2/100\n",
            "25/25 [==============================] - 32s 1s/step - loss: 0.8266 - acc: 0.5406 - val_loss: 0.7077 - val_acc: 0.5130\n",
            "Epoch 3/100\n",
            "25/25 [==============================] - 45s 2s/step - loss: 0.7405 - acc: 0.5719 - val_loss: 0.7488 - val_acc: 0.5052\n",
            "Epoch 4/100\n",
            "25/25 [==============================] - 46s 2s/step - loss: 0.6802 - acc: 0.6031 - val_loss: 0.7182 - val_acc: 0.5104\n",
            "Epoch 5/100\n",
            "25/25 [==============================] - 45s 2s/step - loss: 0.6475 - acc: 0.6412 - val_loss: 0.7481 - val_acc: 0.5156\n",
            "Epoch 6/100\n",
            "25/25 [==============================] - 45s 2s/step - loss: 0.6497 - acc: 0.6456 - val_loss: 0.7638 - val_acc: 0.5104\n",
            "Epoch 7/100\n",
            "25/25 [==============================] - 44s 2s/step - loss: 0.6285 - acc: 0.6512 - val_loss: 0.8361 - val_acc: 0.5026\n",
            "Epoch 8/100\n",
            "25/25 [==============================] - 44s 2s/step - loss: 0.6059 - acc: 0.6719 - val_loss: 0.8513 - val_acc: 0.5052\n",
            "Epoch 9/100\n",
            "25/25 [==============================] - 45s 2s/step - loss: 0.5728 - acc: 0.6962 - val_loss: 0.8180 - val_acc: 0.5182\n",
            "Epoch 10/100\n",
            "25/25 [==============================] - 45s 2s/step - loss: 0.5901 - acc: 0.7006 - val_loss: 0.9314 - val_acc: 0.5000\n",
            "Epoch 11/100\n",
            "25/25 [==============================] - 45s 2s/step - loss: 0.5593 - acc: 0.7019 - val_loss: 0.9385 - val_acc: 0.5026\n",
            "Epoch 12/100\n",
            "25/25 [==============================] - 45s 2s/step - loss: 0.5508 - acc: 0.7213 - val_loss: 0.8865 - val_acc: 0.5026\n",
            "Epoch 13/100\n",
            "25/25 [==============================] - 45s 2s/step - loss: 0.5566 - acc: 0.7144 - val_loss: 0.8238 - val_acc: 0.5078\n",
            "Epoch 14/100\n",
            "25/25 [==============================] - 45s 2s/step - loss: 0.5357 - acc: 0.7381 - val_loss: 0.8886 - val_acc: 0.5026\n",
            "Epoch 15/100\n",
            "25/25 [==============================] - 45s 2s/step - loss: 0.5336 - acc: 0.7344 - val_loss: 0.8309 - val_acc: 0.5052\n",
            "Epoch 16/100\n",
            "25/25 [==============================] - 45s 2s/step - loss: 0.5424 - acc: 0.7244 - val_loss: 0.8218 - val_acc: 0.5156\n",
            "Epoch 17/100\n",
            "25/25 [==============================] - 45s 2s/step - loss: 0.5252 - acc: 0.7425 - val_loss: 0.9136 - val_acc: 0.5052\n",
            "Epoch 18/100\n",
            "25/25 [==============================] - 45s 2s/step - loss: 0.4969 - acc: 0.7531 - val_loss: 0.9884 - val_acc: 0.5052\n",
            "Epoch 19/100\n",
            "25/25 [==============================] - 45s 2s/step - loss: 0.5043 - acc: 0.7475 - val_loss: 0.8506 - val_acc: 0.5078\n",
            "Epoch 20/100\n",
            "25/25 [==============================] - 45s 2s/step - loss: 0.4938 - acc: 0.7688 - val_loss: 0.8513 - val_acc: 0.5130\n",
            "Epoch 21/100\n",
            "25/25 [==============================] - 45s 2s/step - loss: 0.5066 - acc: 0.7556 - val_loss: 0.9075 - val_acc: 0.5026\n",
            "Epoch 22/100\n",
            "25/25 [==============================] - 45s 2s/step - loss: 0.4836 - acc: 0.7731 - val_loss: 0.9004 - val_acc: 0.5052\n",
            "Epoch 23/100\n",
            "25/25 [==============================] - 45s 2s/step - loss: 0.4691 - acc: 0.7756 - val_loss: 0.8895 - val_acc: 0.5130\n",
            "Epoch 24/100\n",
            "25/25 [==============================] - 45s 2s/step - loss: 0.4862 - acc: 0.7594 - val_loss: 0.8407 - val_acc: 0.5234\n",
            "Epoch 25/100\n",
            "25/25 [==============================] - 45s 2s/step - loss: 0.4505 - acc: 0.7963 - val_loss: 0.9916 - val_acc: 0.5130\n",
            "Epoch 26/100\n",
            "25/25 [==============================] - 45s 2s/step - loss: 0.4736 - acc: 0.7812 - val_loss: 0.7840 - val_acc: 0.5417\n",
            "Epoch 27/100\n",
            "25/25 [==============================] - 45s 2s/step - loss: 0.4514 - acc: 0.7956 - val_loss: 0.7283 - val_acc: 0.5651\n",
            "Epoch 28/100\n",
            "25/25 [==============================] - 45s 2s/step - loss: 0.4556 - acc: 0.7669 - val_loss: 0.7563 - val_acc: 0.5703\n",
            "Epoch 29/100\n",
            "25/25 [==============================] - 45s 2s/step - loss: 0.4264 - acc: 0.8100 - val_loss: 0.9154 - val_acc: 0.5260\n",
            "Epoch 30/100\n",
            "25/25 [==============================] - 45s 2s/step - loss: 0.4493 - acc: 0.7894 - val_loss: 0.8476 - val_acc: 0.5312\n",
            "Epoch 31/100\n",
            "25/25 [==============================] - 45s 2s/step - loss: 0.4052 - acc: 0.8188 - val_loss: 0.7972 - val_acc: 0.5677\n",
            "Epoch 32/100\n",
            "25/25 [==============================] - 45s 2s/step - loss: 0.4072 - acc: 0.8188 - val_loss: 0.8516 - val_acc: 0.5599\n",
            "Epoch 33/100\n",
            "25/25 [==============================] - 45s 2s/step - loss: 0.4077 - acc: 0.8206 - val_loss: 0.8771 - val_acc: 0.5391\n",
            "Epoch 34/100\n",
            "25/25 [==============================] - 45s 2s/step - loss: 0.3800 - acc: 0.8281 - val_loss: 0.9234 - val_acc: 0.5495\n",
            "Epoch 35/100\n",
            "25/25 [==============================] - 45s 2s/step - loss: 0.3703 - acc: 0.8356 - val_loss: 0.8578 - val_acc: 0.5625\n",
            "Epoch 36/100\n",
            "25/25 [==============================] - 45s 2s/step - loss: 0.3643 - acc: 0.8375 - val_loss: 0.8403 - val_acc: 0.5625\n",
            "Epoch 37/100\n",
            "25/25 [==============================] - 46s 2s/step - loss: 0.3696 - acc: 0.8325 - val_loss: 0.8399 - val_acc: 0.5625\n",
            "Epoch 38/100\n",
            "25/25 [==============================] - 46s 2s/step - loss: 0.3897 - acc: 0.8281 - val_loss: 0.7317 - val_acc: 0.5938\n",
            "Epoch 39/100\n",
            "25/25 [==============================] - 46s 2s/step - loss: 0.3842 - acc: 0.8337 - val_loss: 0.8585 - val_acc: 0.5495\n",
            "Epoch 40/100\n",
            "25/25 [==============================] - 45s 2s/step - loss: 0.3729 - acc: 0.8463 - val_loss: 0.7983 - val_acc: 0.5651\n",
            "Epoch 41/100\n",
            "25/25 [==============================] - 45s 2s/step - loss: 0.3447 - acc: 0.8475 - val_loss: 0.8682 - val_acc: 0.5755\n",
            "Epoch 42/100\n",
            "25/25 [==============================] - 45s 2s/step - loss: 0.3289 - acc: 0.8588 - val_loss: 0.9722 - val_acc: 0.5521\n",
            "Epoch 43/100\n",
            "25/25 [==============================] - 45s 2s/step - loss: 0.3462 - acc: 0.8331 - val_loss: 1.0310 - val_acc: 0.5417\n",
            "Epoch 44/100\n",
            "25/25 [==============================] - 45s 2s/step - loss: 0.3489 - acc: 0.8531 - val_loss: 0.7739 - val_acc: 0.5911\n",
            "Epoch 45/100\n",
            "25/25 [==============================] - 45s 2s/step - loss: 0.3357 - acc: 0.8488 - val_loss: 0.8551 - val_acc: 0.5651\n",
            "Epoch 46/100\n",
            "25/25 [==============================] - 45s 2s/step - loss: 0.3216 - acc: 0.8550 - val_loss: 0.7871 - val_acc: 0.5885\n",
            "Epoch 47/100\n",
            "25/25 [==============================] - 45s 2s/step - loss: 0.3131 - acc: 0.8625 - val_loss: 0.9923 - val_acc: 0.5625\n",
            "Epoch 48/100\n",
            "25/25 [==============================] - 45s 2s/step - loss: 0.2991 - acc: 0.8687 - val_loss: 0.8284 - val_acc: 0.6068\n",
            "Epoch 49/100\n",
            "25/25 [==============================] - 45s 2s/step - loss: 0.3017 - acc: 0.8706 - val_loss: 0.9147 - val_acc: 0.5911\n",
            "Epoch 50/100\n",
            "25/25 [==============================] - 45s 2s/step - loss: 0.3116 - acc: 0.8706 - val_loss: 0.8382 - val_acc: 0.6146\n",
            "Epoch 51/100\n",
            "25/25 [==============================] - 45s 2s/step - loss: 0.3017 - acc: 0.8638 - val_loss: 0.7394 - val_acc: 0.6224\n",
            "Epoch 52/100\n",
            "25/25 [==============================] - 45s 2s/step - loss: 0.2728 - acc: 0.8850 - val_loss: 0.8259 - val_acc: 0.6224\n",
            "Epoch 53/100\n",
            "25/25 [==============================] - 45s 2s/step - loss: 0.2880 - acc: 0.8675 - val_loss: 0.6945 - val_acc: 0.6354\n",
            "Epoch 54/100\n",
            "25/25 [==============================] - 45s 2s/step - loss: 0.2855 - acc: 0.8731 - val_loss: 0.8622 - val_acc: 0.6198\n",
            "Epoch 55/100\n",
            "25/25 [==============================] - 43s 2s/step - loss: 0.2676 - acc: 0.8813 - val_loss: 0.9962 - val_acc: 0.5781\n",
            "Epoch 56/100\n",
            "25/25 [==============================] - 45s 2s/step - loss: 0.2576 - acc: 0.8906 - val_loss: 0.8257 - val_acc: 0.6276\n",
            "Epoch 57/100\n",
            "25/25 [==============================] - 46s 2s/step - loss: 0.2608 - acc: 0.8962 - val_loss: 0.7656 - val_acc: 0.6354\n",
            "Epoch 58/100\n",
            "25/25 [==============================] - 44s 2s/step - loss: 0.2397 - acc: 0.8962 - val_loss: 0.7458 - val_acc: 0.6328\n",
            "Epoch 59/100\n",
            "25/25 [==============================] - 45s 2s/step - loss: 0.2668 - acc: 0.8831 - val_loss: 0.7469 - val_acc: 0.6172\n",
            "Epoch 60/100\n",
            "25/25 [==============================] - 45s 2s/step - loss: 0.2536 - acc: 0.8956 - val_loss: 0.7736 - val_acc: 0.6224\n",
            "Epoch 61/100\n",
            "25/25 [==============================] - 45s 2s/step - loss: 0.2496 - acc: 0.9037 - val_loss: 0.7155 - val_acc: 0.6250\n",
            "Epoch 62/100\n",
            "25/25 [==============================] - 45s 2s/step - loss: 0.2461 - acc: 0.9025 - val_loss: 0.7005 - val_acc: 0.6354\n",
            "Epoch 63/100\n",
            "25/25 [==============================] - 45s 2s/step - loss: 0.2532 - acc: 0.8919 - val_loss: 0.6800 - val_acc: 0.6510\n",
            "Epoch 64/100\n",
            "25/25 [==============================] - 45s 2s/step - loss: 0.2213 - acc: 0.9113 - val_loss: 0.7140 - val_acc: 0.6276\n",
            "Epoch 65/100\n",
            "25/25 [==============================] - 45s 2s/step - loss: 0.2059 - acc: 0.9156 - val_loss: 0.7283 - val_acc: 0.6276\n",
            "Epoch 66/100\n",
            "25/25 [==============================] - 45s 2s/step - loss: 0.2105 - acc: 0.9062 - val_loss: 0.7228 - val_acc: 0.6146\n",
            "Epoch 67/100\n",
            "25/25 [==============================] - 45s 2s/step - loss: 0.2125 - acc: 0.9144 - val_loss: 0.7303 - val_acc: 0.6484\n",
            "Epoch 68/100\n",
            "25/25 [==============================] - 44s 2s/step - loss: 0.2025 - acc: 0.9106 - val_loss: 0.9185 - val_acc: 0.6224\n",
            "Epoch 69/100\n",
            "25/25 [==============================] - 44s 2s/step - loss: 0.2159 - acc: 0.9081 - val_loss: 0.7458 - val_acc: 0.6302\n",
            "Epoch 70/100\n",
            "25/25 [==============================] - 44s 2s/step - loss: 0.2113 - acc: 0.9037 - val_loss: 0.7130 - val_acc: 0.6536\n",
            "Epoch 71/100\n",
            "25/25 [==============================] - 44s 2s/step - loss: 0.2106 - acc: 0.9131 - val_loss: 0.7184 - val_acc: 0.6224\n",
            "Epoch 72/100\n",
            "25/25 [==============================] - 44s 2s/step - loss: 0.2192 - acc: 0.9144 - val_loss: 0.6990 - val_acc: 0.6302\n",
            "Epoch 73/100\n",
            "25/25 [==============================] - 45s 2s/step - loss: 0.1856 - acc: 0.9256 - val_loss: 0.7364 - val_acc: 0.6276\n",
            "Epoch 74/100\n",
            "25/25 [==============================] - 44s 2s/step - loss: 0.2250 - acc: 0.9044 - val_loss: 0.7393 - val_acc: 0.6224\n",
            "Epoch 75/100\n",
            "25/25 [==============================] - 44s 2s/step - loss: 0.1912 - acc: 0.9337 - val_loss: 0.7061 - val_acc: 0.6198\n",
            "Epoch 76/100\n",
            "25/25 [==============================] - 44s 2s/step - loss: 0.1727 - acc: 0.9319 - val_loss: 0.8138 - val_acc: 0.6276\n",
            "Epoch 77/100\n",
            "25/25 [==============================] - 45s 2s/step - loss: 0.1937 - acc: 0.9256 - val_loss: 0.6950 - val_acc: 0.6484\n",
            "Epoch 78/100\n",
            "25/25 [==============================] - 45s 2s/step - loss: 0.1746 - acc: 0.9300 - val_loss: 0.7575 - val_acc: 0.6198\n",
            "Epoch 79/100\n",
            "25/25 [==============================] - 45s 2s/step - loss: 0.1692 - acc: 0.9331 - val_loss: 0.8032 - val_acc: 0.6016\n",
            "Epoch 80/100\n",
            "25/25 [==============================] - 45s 2s/step - loss: 0.1752 - acc: 0.9300 - val_loss: 0.7235 - val_acc: 0.6380\n",
            "Epoch 81/100\n",
            "25/25 [==============================] - 44s 2s/step - loss: 0.1494 - acc: 0.9419 - val_loss: 0.7794 - val_acc: 0.6172\n",
            "Epoch 82/100\n",
            "25/25 [==============================] - 44s 2s/step - loss: 0.1699 - acc: 0.9312 - val_loss: 0.7089 - val_acc: 0.6484\n",
            "Epoch 83/100\n",
            "25/25 [==============================] - 45s 2s/step - loss: 0.1820 - acc: 0.9281 - val_loss: 0.7292 - val_acc: 0.6484\n",
            "Epoch 84/100\n",
            "25/25 [==============================] - 44s 2s/step - loss: 0.1588 - acc: 0.9350 - val_loss: 0.7606 - val_acc: 0.6224\n",
            "Epoch 85/100\n",
            "25/25 [==============================] - 45s 2s/step - loss: 0.1615 - acc: 0.9288 - val_loss: 0.8213 - val_acc: 0.6198\n",
            "Epoch 86/100\n",
            "25/25 [==============================] - 44s 2s/step - loss: 0.1683 - acc: 0.9413 - val_loss: 0.7910 - val_acc: 0.6198\n",
            "Epoch 87/100\n",
            "25/25 [==============================] - 45s 2s/step - loss: 0.1833 - acc: 0.9363 - val_loss: 0.7431 - val_acc: 0.6250\n",
            "Epoch 88/100\n",
            "25/25 [==============================] - 44s 2s/step - loss: 0.1585 - acc: 0.9281 - val_loss: 0.7918 - val_acc: 0.6380\n",
            "Epoch 89/100\n",
            "25/25 [==============================] - 45s 2s/step - loss: 0.1525 - acc: 0.9425 - val_loss: 0.7980 - val_acc: 0.6224\n",
            "Epoch 90/100\n",
            "25/25 [==============================] - 45s 2s/step - loss: 0.1686 - acc: 0.9231 - val_loss: 0.8273 - val_acc: 0.6328\n",
            "Epoch 91/100\n",
            "25/25 [==============================] - 45s 2s/step - loss: 0.1595 - acc: 0.9394 - val_loss: 0.7990 - val_acc: 0.6302\n",
            "Epoch 92/100\n",
            "25/25 [==============================] - 45s 2s/step - loss: 0.1348 - acc: 0.9494 - val_loss: 0.8435 - val_acc: 0.6328\n",
            "Epoch 93/100\n",
            "25/25 [==============================] - 45s 2s/step - loss: 0.1422 - acc: 0.9431 - val_loss: 0.9873 - val_acc: 0.5938\n",
            "Epoch 94/100\n",
            "25/25 [==============================] - 45s 2s/step - loss: 0.1591 - acc: 0.9319 - val_loss: 1.0813 - val_acc: 0.5885\n",
            "Epoch 95/100\n",
            "25/25 [==============================] - 45s 2s/step - loss: 0.1486 - acc: 0.9387 - val_loss: 0.9994 - val_acc: 0.5911\n",
            "Epoch 96/100\n",
            "25/25 [==============================] - 45s 2s/step - loss: 0.1568 - acc: 0.9419 - val_loss: 0.8777 - val_acc: 0.6068\n",
            "Epoch 97/100\n",
            "25/25 [==============================] - 45s 2s/step - loss: 0.1551 - acc: 0.9363 - val_loss: 0.8372 - val_acc: 0.6172\n",
            "Epoch 98/100\n",
            "25/25 [==============================] - 45s 2s/step - loss: 0.1235 - acc: 0.9525 - val_loss: 0.8562 - val_acc: 0.6406\n",
            "Epoch 99/100\n",
            "25/25 [==============================] - 45s 2s/step - loss: 0.1161 - acc: 0.9581 - val_loss: 0.8960 - val_acc: 0.6380\n",
            "Epoch 100/100\n",
            "25/25 [==============================] - 45s 2s/step - loss: 0.1521 - acc: 0.9419 - val_loss: 0.8394 - val_acc: 0.6458\n"
          ],
          "name": "stdout"
        }
      ]
    },
    {
      "metadata": {
        "id": "3fbTgpHOMUFD",
        "colab_type": "code",
        "outputId": "7be01a82-d9c5-44ce-eb2a-6cc5bb99b6e8",
        "colab": {
          "base_uri": "https://localhost:8080/",
          "height": 361
        }
      },
      "cell_type": "code",
      "source": [
        "# Get training and test loss histories\n",
        "training_loss = history.history['loss']\n",
        "test_loss = history.history['val_loss']\n",
        "\n",
        "# Create count of the number of epochs\n",
        "epoch_count = range(1, len(training_loss) + 1)\n",
        "\n",
        "# Visualize loss history\n",
        "plt.plot(epoch_count, training_loss, 'r--')\n",
        "plt.plot(epoch_count, test_loss, 'b-')\n",
        "plt.legend(['Training Loss', 'Test Loss'])\n",
        "plt.xlabel('Epoch')\n",
        "plt.ylabel('Loss')\n",
        "plt.show();"
      ],
      "execution_count": 0,
      "outputs": [
        {
          "output_type": "display_data",
          "data": {
            "image/png": "[encoded data removed]",
            "text/plain": [
              "<Figure size 576x396 with 1 Axes>"
            ]
          },
          "metadata": {
            "tags": []
          }
        }
      ]
    },
    {
      "metadata": {
        "id": "x6lzzpXIMUFH",
        "colab_type": "code",
        "outputId": "03834ca3-63d9-466b-c52b-de215209ebfa",
        "colab": {
          "base_uri": "https://localhost:8080/",
          "height": 393
        }
      },
      "cell_type": "code",
      "source": [
        "# # Plot Training History. \n",
        "# # list all data in history \n",
        "print(history.history.keys()) \n",
        "\n",
        "# summarize history for accuracy \n",
        "plt.plot(history.history['acc']) \n",
        "plt.plot(history.history['val_acc']) \n",
        "plt.title('model accuracy') \n",
        "plt.ylabel('accuracy') \n",
        "plt.xlabel('epoch') \n",
        "plt.legend(['train', 'test'], loc='upper left') \n",
        "plt.show()"
      ],
      "execution_count": 0,
      "outputs": [
        {
          "output_type": "stream",
          "text": [
            "dict_keys(['val_loss', 'val_acc', 'loss', 'acc'])\n"
          ],
          "name": "stdout"
        },
        {
          "output_type": "display_data",
          "data": {
            "image/png": "[encoded data removed]",
            "text/plain": [
              "<Figure size 576x396 with 1 Axes>"
            ]
          },
          "metadata": {
            "tags": []
          }
        }
      ]
    },
    {
      "metadata": {
        "id": "3wLkGxi6M0ls",
        "colab_type": "code",
        "outputId": "804ba01f-bc53-4848-d02a-cbafab08573d",
        "colab": {
          "base_uri": "https://localhost:8080/",
          "height": 595
        }
      },
      "cell_type": "code",
      "source": [
        "from keras.preprocessing.image import ImageDataGenerator\n",
        "from sklearn.metrics import classification_report, confusion_matrix\n",
        "\n",
        "#Confution Matrix and Classification Report for Validation set\n",
        "Y_pred = model.predict_generator(validation_generator, 384//val_batch_size,verbose=1)\n",
        "print('-'* 60, '\\n Validation images = ', len(Y_pred))\n",
        "y_pred = np.argmax(Y_pred, axis=1)\n",
        "\n",
        "print('\\nConfusion Matrix (Validation Image set)')\n",
        "print(confusion_matrix(validation_generator.classes, y_pred))\n",
        "print('Classification Report')\n",
        "target_names = ['Cardiomegaly', 'No Finding']\n",
        "print(classification_report(validation_generator.classes, y_pred, target_names=target_names))\n",
        "\n",
        "# Confution Matrix and Classification Report for Test Image set\n",
        "Y_pred = model.predict_generator(test_generator, 200//tst_batch_size,verbose=2)\n",
        "print('-'* 60, '\\n Test images = ', len(Y_pred))\n",
        "y_pred = np.argmax(Y_pred, axis=1)\n",
        "\n",
        "print('\\nConfusion Matrix (Test Image set)')\n",
        "print(confusion_matrix(test_generator.classes, y_pred))\n",
        "print('Classification Report')\n",
        "target_names = ['Cardiomegaly', 'No Finding']\n",
        "print(classification_report(test_generator.classes, y_pred, target_names=target_names))\n",
        "print('-'*60)"
      ],
      "execution_count": 0,
      "outputs": [
        {
          "output_type": "stream",
          "text": [
            "24/24 [==============================] - 7s 289ms/step\n",
            "------------------------------------------------------------ \n",
            " Validation images =  384\n",
            "\n",
            "Confusion Matrix (Validation Image set)\n",
            "[[105  87]\n",
            " [105  87]]\n",
            "Classification Report\n",
            "              precision    recall  f1-score   support\n",
            "\n",
            "Cardiomegaly       0.50      0.55      0.52       192\n",
            "  No Finding       0.50      0.45      0.48       192\n",
            "\n",
            "   micro avg       0.50      0.50      0.50       384\n",
            "   macro avg       0.50      0.50      0.50       384\n",
            "weighted avg       0.50      0.50      0.50       384\n",
            "\n",
            "------------------------------------------------------------ \n",
            " Test images =  200\n",
            "\n",
            "Confusion Matrix (Test Image set)\n",
            "[[69 31]\n",
            " [61 39]]\n",
            "Classification Report\n",
            "              precision    recall  f1-score   support\n",
            "\n",
            "Cardiomegaly       0.53      0.69      0.60       100\n",
            "  No Finding       0.56      0.39      0.46       100\n",
            "\n",
            "   micro avg       0.54      0.54      0.54       200\n",
            "   macro avg       0.54      0.54      0.53       200\n",
            "weighted avg       0.54      0.54      0.53       200\n",
            "\n",
            "------------------------------------------------------------\n"
          ],
          "name": "stdout"
        }
      ]
    },
    {
      "metadata": {
        "id": "NNWZeedZMbRq",
        "colab_type": "code",
        "outputId": "b55e7eb9-f9e5-46d5-f69c-dd510fec06cc",
        "colab": {
          "base_uri": "https://localhost:8080/",
          "height": 816
        }
      },
      "cell_type": "code",
      "source": [
        "# stage2: training parameer setup\n",
        "es = cb.EarlyStopping(monitor='val_acc', mode='max', verbose=1, patience=15)\n",
        "bestwgt = cb.ModelCheckpoint(filepath=bestwt_file2, monitor='val_acc', mode='max', verbose=0, save_best_only=True)\n",
        "model.compile(optimizer=optimizers.SGD(lr=0.001, momentum=0.9, decay=1e-4, nesterov=False), loss='categorical_crossentropy', metrics=['accuracy'])\n",
        "\n",
        "\n",
        "# ---- 2nd stage training\n",
        "history = model.fit_generator(\n",
        "    train_generator,\n",
        "    steps_per_epoch=1600 // trn_batch_size,\n",
        "    epochs=50,\n",
        "    validation_data=validation_generator,\n",
        "    validation_steps=384 // val_batch_size,\n",
        "    callbacks=[es, bestwgt], shuffle=True)"
      ],
      "execution_count": 0,
      "outputs": [
        {
          "output_type": "stream",
          "text": [
            "Epoch 1/50\n",
            "25/25 [==============================] - 53s 2s/step - loss: 0.1357 - acc: 0.9500 - val_loss: 0.8270 - val_acc: 0.6536\n",
            "Epoch 2/50\n",
            "25/25 [==============================] - 43s 2s/step - loss: 0.1589 - acc: 0.9400 - val_loss: 0.8169 - val_acc: 0.6094\n",
            "Epoch 3/50\n",
            "25/25 [==============================] - 45s 2s/step - loss: 0.1483 - acc: 0.9381 - val_loss: 0.9181 - val_acc: 0.6172\n",
            "Epoch 4/50\n",
            "25/25 [==============================] - 45s 2s/step - loss: 0.1276 - acc: 0.9569 - val_loss: 0.9559 - val_acc: 0.5938\n",
            "Epoch 5/50\n",
            "25/25 [==============================] - 46s 2s/step - loss: 0.1413 - acc: 0.9469 - val_loss: 0.8319 - val_acc: 0.6406\n",
            "Epoch 6/50\n",
            "25/25 [==============================] - 45s 2s/step - loss: 0.1318 - acc: 0.9469 - val_loss: 0.8672 - val_acc: 0.6302\n",
            "Epoch 7/50\n",
            "25/25 [==============================] - 45s 2s/step - loss: 0.1474 - acc: 0.9425 - val_loss: 0.8075 - val_acc: 0.6328\n",
            "Epoch 8/50\n",
            "25/25 [==============================] - 45s 2s/step - loss: 0.1396 - acc: 0.9438 - val_loss: 0.7893 - val_acc: 0.6771\n",
            "Epoch 9/50\n",
            "25/25 [==============================] - 44s 2s/step - loss: 0.1149 - acc: 0.9544 - val_loss: 0.8994 - val_acc: 0.6328\n",
            "Epoch 10/50\n",
            "25/25 [==============================] - 45s 2s/step - loss: 0.1152 - acc: 0.9619 - val_loss: 1.0547 - val_acc: 0.5990\n",
            "Epoch 11/50\n",
            "25/25 [==============================] - 45s 2s/step - loss: 0.1340 - acc: 0.9494 - val_loss: 0.8110 - val_acc: 0.6146\n",
            "Epoch 12/50\n",
            "25/25 [==============================] - 46s 2s/step - loss: 0.1197 - acc: 0.9462 - val_loss: 0.8710 - val_acc: 0.6276\n",
            "Epoch 13/50\n",
            "25/25 [==============================] - 46s 2s/step - loss: 0.1087 - acc: 0.9619 - val_loss: 1.0039 - val_acc: 0.5781\n",
            "Epoch 14/50\n",
            "25/25 [==============================] - 45s 2s/step - loss: 0.1415 - acc: 0.9481 - val_loss: 0.8213 - val_acc: 0.6432\n",
            "Epoch 15/50\n",
            "25/25 [==============================] - 46s 2s/step - loss: 0.1303 - acc: 0.9531 - val_loss: 0.8684 - val_acc: 0.6068\n",
            "Epoch 16/50\n",
            "25/25 [==============================] - 45s 2s/step - loss: 0.0995 - acc: 0.9563 - val_loss: 0.8559 - val_acc: 0.6484\n",
            "Epoch 17/50\n",
            "25/25 [==============================] - 45s 2s/step - loss: 0.1301 - acc: 0.9537 - val_loss: 0.8922 - val_acc: 0.6172\n",
            "Epoch 18/50\n",
            "25/25 [==============================] - 45s 2s/step - loss: 0.1150 - acc: 0.9487 - val_loss: 0.9521 - val_acc: 0.5938\n",
            "Epoch 19/50\n",
            "25/25 [==============================] - 45s 2s/step - loss: 0.0956 - acc: 0.9637 - val_loss: 0.9444 - val_acc: 0.6328\n",
            "Epoch 20/50\n",
            "25/25 [==============================] - 44s 2s/step - loss: 0.1065 - acc: 0.9594 - val_loss: 0.8560 - val_acc: 0.6432\n",
            "Epoch 21/50\n",
            "25/25 [==============================] - 44s 2s/step - loss: 0.1188 - acc: 0.9544 - val_loss: 0.9968 - val_acc: 0.6172\n",
            "Epoch 22/50\n",
            "25/25 [==============================] - 44s 2s/step - loss: 0.1101 - acc: 0.9600 - val_loss: 1.0736 - val_acc: 0.6042\n",
            "Epoch 23/50\n",
            "25/25 [==============================] - 44s 2s/step - loss: 0.1075 - acc: 0.9619 - val_loss: 0.9425 - val_acc: 0.6172\n",
            "Epoch 00023: early stopping\n"
          ],
          "name": "stdout"
        }
      ]
    },
    {
      "metadata": {
        "id": "OwpdXgJHMgpI",
        "colab_type": "code",
        "outputId": "57200943-b297-4bbd-fe56-409c80fc31c7",
        "colab": {
          "base_uri": "https://localhost:8080/",
          "height": 595
        }
      },
      "cell_type": "code",
      "source": [
        "#Confution Matrix and Classification Report for Validation set\n",
        "Y_pred = model.predict_generator(validation_generator, 384//val_batch_size,verbose=1)\n",
        "print('-'* 60, '\\n Validation images = ', len(Y_pred))\n",
        "y_pred = np.argmax(Y_pred, axis=1)\n",
        "\n",
        "print('\\nConfusion Matrix (Validation Image set)')\n",
        "print(confusion_matrix(validation_generator.classes, y_pred))\n",
        "print('Classification Report')\n",
        "target_names = ['Cardiomegaly', 'No Finding']\n",
        "print(classification_report(validation_generator.classes, y_pred, target_names=target_names))\n",
        "\n",
        "# Confution Matrix and Classification Report for Test Image set\n",
        "Y_pred = model.predict_generator(test_generator, 200//tst_batch_size,verbose=2)\n",
        "print('-'* 60, '\\n Test images = ', len(Y_pred))\n",
        "y_pred = np.argmax(Y_pred, axis=1)\n",
        "\n",
        "print('\\nConfusion Matrix (Test Image set)')\n",
        "print(confusion_matrix(test_generator.classes, y_pred))\n",
        "print('Classification Report')\n",
        "target_names = ['Cardiomegaly', 'No Finding']\n",
        "print(classification_report(test_generator.classes, y_pred, target_names=target_names))\n",
        "print('-'*60)\n",
        "\n"
      ],
      "execution_count": 0,
      "outputs": [
        {
          "output_type": "stream",
          "text": [
            "24/24 [==============================] - 7s 309ms/step\n",
            "------------------------------------------------------------ \n",
            " Validation images =  384\n",
            "\n",
            "Confusion Matrix (Validation Image set)\n",
            "[[ 87 105]\n",
            " [ 94  98]]\n",
            "Classification Report\n",
            "              precision    recall  f1-score   support\n",
            "\n",
            "Cardiomegaly       0.48      0.45      0.47       192\n",
            "  No Finding       0.48      0.51      0.50       192\n",
            "\n",
            "   micro avg       0.48      0.48      0.48       384\n",
            "   macro avg       0.48      0.48      0.48       384\n",
            "weighted avg       0.48      0.48      0.48       384\n",
            "\n",
            "------------------------------------------------------------ \n",
            " Test images =  200\n",
            "\n",
            "Confusion Matrix (Test Image set)\n",
            "[[57 43]\n",
            " [54 46]]\n",
            "Classification Report\n",
            "              precision    recall  f1-score   support\n",
            "\n",
            "Cardiomegaly       0.51      0.57      0.54       100\n",
            "  No Finding       0.52      0.46      0.49       100\n",
            "\n",
            "   micro avg       0.52      0.52      0.52       200\n",
            "   macro avg       0.52      0.52      0.51       200\n",
            "weighted avg       0.52      0.52      0.51       200\n",
            "\n",
            "------------------------------------------------------------\n"
          ],
          "name": "stdout"
        }
      ]
    },
    {
      "metadata": {
        "id": "friml3pjMUFW",
        "colab_type": "code",
        "colab": {}
      },
      "cell_type": "code",
      "source": [
        "# load best validation accuracy model weights from stage1\n",
        "model.load_weights(bestwt_file1)\n",
        "model.compile(optimizer=optimizers.SGD(lr=0.00005, momentum=0.9, decay=1e-5, nesterov=True),loss='categorical_crossentropy', metrics=['accuracy'])"
      ],
      "execution_count": 0,
      "outputs": []
    },
    {
      "metadata": {
        "id": "q77tqxAmVxlI",
        "colab_type": "code",
        "outputId": "9ac0ae8a-dd02-41dc-b810-1852af1aff50",
        "colab": {
          "base_uri": "https://localhost:8080/",
          "height": 595
        }
      },
      "cell_type": "code",
      "source": [
        "#Confution Matrix and Classification Report for Validation set\n",
        "Y_pred = model.predict_generator(validation_generator, 384//val_batch_size,verbose=1)\n",
        "print('-'* 60, '\\n Validation images = ', len(Y_pred))\n",
        "y_pred = np.argmax(Y_pred, axis=1)\n",
        "\n",
        "print('\\nConfusion Matrix (Validation Image set)')\n",
        "print(confusion_matrix(validation_generator.classes, y_pred))\n",
        "print('Classification Report')\n",
        "target_names = ['Cardiomegaly', 'No Finding']\n",
        "print(classification_report(validation_generator.classes, y_pred, target_names=target_names))\n",
        "\n",
        "# Confution Matrix and Classification Report for Test Image set\n",
        "Y_pred = model.predict_generator(test_generator, 200//tst_batch_size,verbose=2)\n",
        "print('-'* 60, '\\n Test images = ', len(Y_pred))\n",
        "y_pred = np.argmax(Y_pred, axis=1)\n",
        "\n",
        "print('\\nConfusion Matrix (Test Image set)')\n",
        "print(confusion_matrix(test_generator.classes, y_pred))\n",
        "print('Classification Report')\n",
        "target_names = ['Cardiomegaly', 'No Finding']\n",
        "print(classification_report(test_generator.classes, y_pred, target_names=target_names))\n",
        "print('-'*60)"
      ],
      "execution_count": 0,
      "outputs": [
        {
          "output_type": "stream",
          "text": [
            "24/24 [==============================] - 8s 331ms/step\n",
            "------------------------------------------------------------ \n",
            " Validation images =  384\n",
            "\n",
            "Confusion Matrix (Validation Image set)\n",
            "[[ 74 118]\n",
            " [ 72 120]]\n",
            "Classification Report\n",
            "              precision    recall  f1-score   support\n",
            "\n",
            "Cardiomegaly       0.51      0.39      0.44       192\n",
            "  No Finding       0.50      0.62      0.56       192\n",
            "\n",
            "   micro avg       0.51      0.51      0.51       384\n",
            "   macro avg       0.51      0.51      0.50       384\n",
            "weighted avg       0.51      0.51      0.50       384\n",
            "\n",
            "------------------------------------------------------------ \n",
            " Test images =  200\n",
            "\n",
            "Confusion Matrix (Test Image set)\n",
            "[[47 53]\n",
            " [45 55]]\n",
            "Classification Report\n",
            "              precision    recall  f1-score   support\n",
            "\n",
            "Cardiomegaly       0.51      0.47      0.49       100\n",
            "  No Finding       0.51      0.55      0.53       100\n",
            "\n",
            "   micro avg       0.51      0.51      0.51       200\n",
            "   macro avg       0.51      0.51      0.51       200\n",
            "weighted avg       0.51      0.51      0.51       200\n",
            "\n",
            "------------------------------------------------------------\n"
          ],
          "name": "stdout"
        }
      ]
    },
    {
      "metadata": {
        "id": "LxGgOvLQzzaf",
        "colab_type": "code",
        "outputId": "d9d40f7c-cf54-48f7-ab7e-3059dced4afb",
        "colab": {
          "base_uri": "https://localhost:8080/",
          "height": 646
        }
      },
      "cell_type": "code",
      "source": [
        "from keras import callbacks as cb\n",
        "es = cb.EarlyStopping(monitor='val_loss', mode='min', verbose=1, patience=17)\n",
        "bestwgt = cb.ModelCheckpoint(filepath=bestwt_file2, monitor='val_acc', mode='max', verbose=0, save_best_only=True)\n",
        "\n",
        "# continue training! starting point [best validation accuracy weight]. see if it improves?\n",
        "model.compile(optimizer=optimizers.SGD(lr=0.00005, momentum=0.9, decay=1e-5, nesterov=True), loss='categorical_crossentropy', metrics=['accuracy'])\n",
        "\n",
        "# ---- 3rd stage training\n",
        "history2 = model.fit_generator(\n",
        "    train_generator,\n",
        "    steps_per_epoch=1600 // trn_batch_size,\n",
        "    epochs=80,\n",
        "    validation_data=validation_generator,\n",
        "    validation_steps=384 // val_batch_size,\n",
        "    callbacks=[es, bestwgt])\n"
      ],
      "execution_count": 0,
      "outputs": [
        {
          "output_type": "stream",
          "text": [
            "Epoch 1/80\n",
            "25/25 [==============================] - 54s 2s/step - loss: 0.0879 - acc: 0.9700 - val_loss: 0.8331 - val_acc: 0.6510\n",
            "Epoch 2/80\n",
            "25/25 [==============================] - 42s 2s/step - loss: 0.0865 - acc: 0.9675 - val_loss: 0.9343 - val_acc: 0.6224\n",
            "Epoch 3/80\n",
            "25/25 [==============================] - 44s 2s/step - loss: 0.1111 - acc: 0.9556 - val_loss: 0.9339 - val_acc: 0.6198\n",
            "Epoch 4/80\n",
            "25/25 [==============================] - 45s 2s/step - loss: 0.0968 - acc: 0.9650 - val_loss: 0.8978 - val_acc: 0.6328\n",
            "Epoch 5/80\n",
            "25/25 [==============================] - 44s 2s/step - loss: 0.1093 - acc: 0.9619 - val_loss: 0.9138 - val_acc: 0.6302\n",
            "Epoch 6/80\n",
            "25/25 [==============================] - 45s 2s/step - loss: 0.1050 - acc: 0.9625 - val_loss: 0.8988 - val_acc: 0.6276\n",
            "Epoch 7/80\n",
            "25/25 [==============================] - 44s 2s/step - loss: 0.0895 - acc: 0.9681 - val_loss: 0.9176 - val_acc: 0.6354\n",
            "Epoch 8/80\n",
            "25/25 [==============================] - 45s 2s/step - loss: 0.1118 - acc: 0.9587 - val_loss: 0.8760 - val_acc: 0.6432\n",
            "Epoch 9/80\n",
            "25/25 [==============================] - 46s 2s/step - loss: 0.0796 - acc: 0.9719 - val_loss: 0.8953 - val_acc: 0.6380\n",
            "Epoch 10/80\n",
            "25/25 [==============================] - 46s 2s/step - loss: 0.1018 - acc: 0.9606 - val_loss: 0.8968 - val_acc: 0.6302\n",
            "Epoch 11/80\n",
            "25/25 [==============================] - 45s 2s/step - loss: 0.0886 - acc: 0.9644 - val_loss: 0.8442 - val_acc: 0.6484\n",
            "Epoch 12/80\n",
            "25/25 [==============================] - 45s 2s/step - loss: 0.0888 - acc: 0.9681 - val_loss: 0.9471 - val_acc: 0.6042\n",
            "Epoch 13/80\n",
            "25/25 [==============================] - 46s 2s/step - loss: 0.1041 - acc: 0.9612 - val_loss: 0.8783 - val_acc: 0.6380\n",
            "Epoch 14/80\n",
            "25/25 [==============================] - 45s 2s/step - loss: 0.0974 - acc: 0.9612 - val_loss: 0.9100 - val_acc: 0.6302\n",
            "Epoch 15/80\n",
            "25/25 [==============================] - 45s 2s/step - loss: 0.0822 - acc: 0.9662 - val_loss: 0.8750 - val_acc: 0.6250\n",
            "Epoch 16/80\n",
            "25/25 [==============================] - 44s 2s/step - loss: 0.1039 - acc: 0.9644 - val_loss: 0.9131 - val_acc: 0.6224\n",
            "Epoch 17/80\n",
            "25/25 [==============================] - 44s 2s/step - loss: 0.0763 - acc: 0.9725 - val_loss: 0.8694 - val_acc: 0.6250\n",
            "Epoch 18/80\n",
            "25/25 [==============================] - 45s 2s/step - loss: 0.0788 - acc: 0.9700 - val_loss: 0.9295 - val_acc: 0.6406\n",
            "Epoch 00018: early stopping\n"
          ],
          "name": "stdout"
        }
      ]
    },
    {
      "metadata": {
        "id": "JCTJPRGl3kmS",
        "colab_type": "code",
        "outputId": "5891cb10-6f20-453c-d0be-70d755a9f001",
        "colab": {
          "base_uri": "https://localhost:8080/",
          "height": 361
        }
      },
      "cell_type": "code",
      "source": [
        "# Get training and test loss histories\n",
        "training_loss = history2.history['loss']\n",
        "test_loss = history2.history['val_loss']\n",
        "\n",
        "# Create count of the number of epochs\n",
        "epoch_count = range(1, len(training_loss) + 1)\n",
        "\n",
        "# Visualize loss history\n",
        "plt.plot(epoch_count, training_loss, 'r--')\n",
        "plt.plot(epoch_count, test_loss, 'b-')\n",
        "plt.legend(['Training Loss', 'Test Loss'])\n",
        "plt.xlabel('Epoch')\n",
        "plt.ylabel('Loss')\n",
        "plt.show();"
      ],
      "execution_count": 0,
      "outputs": [
        {
          "output_type": "display_data",
          "data": {
            "image/png": "[encoded data removed]",
            "text/plain": [
              "<Figure size 576x396 with 1 Axes>"
            ]
          },
          "metadata": {
            "tags": []
          }
        }
      ]
    },
    {
      "metadata": {
        "id": "1FdAiw5q3zvq",
        "colab_type": "code",
        "outputId": "47f0b770-4d17-4e49-d17b-9f2b0ed21bcc",
        "colab": {
          "base_uri": "https://localhost:8080/",
          "height": 393
        }
      },
      "cell_type": "code",
      "source": [
        "# Plot Training History. \n",
        "# list all data in history \n",
        "print(history2.history.keys()) \n",
        "\n",
        "# summarize history for accuracy \n",
        "plt.plot(history2.history['acc']) \n",
        "plt.plot(history2.history['val_acc']) \n",
        "plt.title('model accuracy') \n",
        "plt.ylabel('accuracy') \n",
        "plt.xlabel('epoch') \n",
        "plt.legend(['train', 'test'], loc='upper left') \n",
        "plt.show()"
      ],
      "execution_count": 0,
      "outputs": [
        {
          "output_type": "stream",
          "text": [
            "dict_keys(['val_loss', 'val_acc', 'loss', 'acc'])\n"
          ],
          "name": "stdout"
        },
        {
          "output_type": "display_data",
          "data": {
            "image/png": "[encoded data removed]",
            "text/plain": [
              "<Figure size 576x396 with 1 Axes>"
            ]
          },
          "metadata": {
            "tags": []
          }
        }
      ]
    },
    {
      "metadata": {
        "id": "X3g_ZhRD4E1y",
        "colab_type": "code",
        "outputId": "ccb32cc9-56e8-40e1-84b6-00795f9d33ca",
        "colab": {
          "base_uri": "https://localhost:8080/",
          "height": 595
        }
      },
      "cell_type": "code",
      "source": [
        "#Confution Matrix and Classification Report for Validation set\n",
        "Y_pred = model.predict_generator(validation_generator, 384//val_batch_size,verbose=1)\n",
        "print('-'* 60, '\\n Validation images = ', len(Y_pred))\n",
        "y_pred = np.argmax(Y_pred, axis=1)\n",
        "\n",
        "print('\\nConfusion Matrix (Validation Image set)')\n",
        "print(confusion_matrix(validation_generator.classes, y_pred))\n",
        "print('Classification Report')\n",
        "target_names = ['Cardiomegaly', 'No Finding']\n",
        "print(classification_report(validation_generator.classes, y_pred, target_names=target_names))\n",
        "\n",
        "# Confution Matrix and Classification Report for Test Image set\n",
        "Y_pred = model.predict_generator(test_generator, 200//tst_batch_size,verbose=2)\n",
        "print('-'* 60, '\\n Test images = ', len(Y_pred))\n",
        "y_pred = np.argmax(Y_pred, axis=1)\n",
        "\n",
        "print('\\nConfusion Matrix (Test Image set)')\n",
        "print(confusion_matrix(test_generator.classes, y_pred))\n",
        "print('Classification Report')\n",
        "target_names = ['Cardiomegaly', 'No Finding']\n",
        "print(classification_report(test_generator.classes, y_pred, target_names=target_names))\n",
        "print('-'*60)\n",
        "\n"
      ],
      "execution_count": 0,
      "outputs": [
        {
          "output_type": "stream",
          "text": [
            "24/24 [==============================] - 8s 320ms/step\n",
            "------------------------------------------------------------ \n",
            " Validation images =  384\n",
            "\n",
            "Confusion Matrix (Validation Image set)\n",
            "[[ 93  99]\n",
            " [ 82 110]]\n",
            "Classification Report\n",
            "              precision    recall  f1-score   support\n",
            "\n",
            "Cardiomegaly       0.53      0.48      0.51       192\n",
            "  No Finding       0.53      0.57      0.55       192\n",
            "\n",
            "   micro avg       0.53      0.53      0.53       384\n",
            "   macro avg       0.53      0.53      0.53       384\n",
            "weighted avg       0.53      0.53      0.53       384\n",
            "\n",
            "------------------------------------------------------------ \n",
            " Test images =  200\n",
            "\n",
            "Confusion Matrix (Test Image set)\n",
            "[[50 50]\n",
            " [60 40]]\n",
            "Classification Report\n",
            "              precision    recall  f1-score   support\n",
            "\n",
            "Cardiomegaly       0.45      0.50      0.48       100\n",
            "  No Finding       0.44      0.40      0.42       100\n",
            "\n",
            "   micro avg       0.45      0.45      0.45       200\n",
            "   macro avg       0.45      0.45      0.45       200\n",
            "weighted avg       0.45      0.45      0.45       200\n",
            "\n",
            "------------------------------------------------------------\n"
          ],
          "name": "stdout"
        }
      ]
    }
  ]
}