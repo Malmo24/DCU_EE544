{
  "nbformat": 4,
  "nbformat_minor": 0,
  "metadata": {
    "colab": {
      "name": "Q1a_Base line_ConvNet model0.ipynb",
      "version": "0.3.2",
      "provenance": [],
      "collapsed_sections": []
    },
    "kernelspec": {
      "name": "python3",
      "display_name": "Python 3"
    },
    "accelerator": "GPU"
  },
  "cells": [
    {
      "metadata": {
        "id": "2C2qI1Kdbg_U",
        "colab_type": "code",
        "colab": {}
      },
      "cell_type": "code",
      "source": [
        "import os\n",
        "import matplotlib.pyplot as plt\n",
        "import numpy as np"
      ],
      "execution_count": 0,
      "outputs": []
    },
    {
      "metadata": {
        "id": "-f-oXBv8bg_Z",
        "colab_type": "code",
        "outputId": "561a41c7-a007-4109-9e68-970184b7396b",
        "colab": {
          "base_uri": "https://localhost:8080/",
          "height": 35
        }
      },
      "cell_type": "code",
      "source": [
        "# import models\n",
        "from keras.models import Sequential\n",
        "\n",
        "from keras.layers import Dense, MaxPooling2D, Conv2D, Flatten, Dropout\n",
        "from keras.layers import Activation\n",
        "from keras import optimizers\n",
        "from keras.constraints import maxnorm\n",
        "# remove: from scipy.misc import toimage\n",
        "from keras_preprocessing.image import ImageDataGenerator\n",
        "from keras.utils import plot_model\n"
      ],
      "execution_count": 0,
      "outputs": [
        {
          "output_type": "stream",
          "text": [
            "Using TensorFlow backend.\n"
          ],
          "name": "stderr"
        }
      ]
    },
    {
      "metadata": {
        "id": "NKIJp0iIbg_g",
        "colab_type": "code",
        "outputId": "b65f9297-3c25-49b0-a3d3-5dcae4cb46f4",
        "colab": {
          "base_uri": "https://localhost:8080/",
          "height": 146
        }
      },
      "cell_type": "code",
      "source": [
        "# Load the Drive helper and mount\n",
        "from google.colab import drive\n",
        "drive.mount('/content/drive', force_remount=True)\n",
        "\n",
        "# load data from google drive\n",
        "base_dir = \"/content/drive/My Drive/Colab Notebooks/imgdata_224\"\n",
        "\n",
        "train_dir = os.path.join(base_dir,'train')\n",
        "validation_dir = os.path.join(base_dir,'validation')\n",
        "test_dir = os.path.join(base_dir,'test')\n",
        "print(test_dir)\n"
      ],
      "execution_count": 0,
      "outputs": [
        {
          "output_type": "stream",
          "text": [
            "Go to this URL in a browser: https://accounts.google.com/o/oauth2/auth?client_id=947318989803-6bn6qk8qdgf4n4g3pfee6491hc0brc4i.apps.googleusercontent.com&redirect_uri=urn%3Aietf%3Awg%3Aoauth%3A2.0%3Aoob&scope=email%20https%3A%2F%2Fwww.googleapis.com%2Fauth%2Fdocs.test%20https%3A%2F%2Fwww.googleapis.com%2Fauth%2Fdrive%20https%3A%2F%2Fwww.googleapis.com%2Fauth%2Fdrive.photos.readonly%20https%3A%2F%2Fwww.googleapis.com%2Fauth%2Fpeopleapi.readonly&response_type=code\n",
            "\n",
            "Enter your authorization code:\n",
            "··········\n",
            "Mounted at /content/drive\n",
            "/content/drive/My Drive/Colab Notebooks/imgdata_224/test\n"
          ],
          "name": "stdout"
        }
      ]
    },
    {
      "metadata": {
        "id": "-R4uXFNVbg_k",
        "colab_type": "code",
        "outputId": "bd4ea33a-8cea-401d-aa81-7e48d14e5433",
        "colab": {
          "base_uri": "https://localhost:8080/",
          "height": 655
        }
      },
      "cell_type": "code",
      "source": [
        "# build sequential Convnet model:\n",
        "model = Sequential()\n",
        "model.add(Conv2D(32,kernel_size=3, activation ='relu', input_shape=(224,224,3),kernel_constraint=maxnorm(3)))\n",
        "model.add(MaxPooling2D(pool_size=(2,2),strides = None))\n",
        "# model.add(Dropout(0.5))\n",
        "model.add(Conv2D(64,kernel_size=3, activation ='relu',kernel_constraint=maxnorm(3)))\n",
        "model.add(MaxPooling2D(pool_size=(2,2),strides = None))\n",
        "# model.add(Dropout(0.2))\n",
        "model.add(Conv2D(64,kernel_size=3, activation ='relu',kernel_constraint=maxnorm(3)))\n",
        "# model.add(Dropout(0.1))\n",
        "model.add(MaxPooling2D(pool_size=(2,2),strides = None))\n",
        "model.add(Flatten())\n",
        "model.add(Dense(32, activation='relu'))\n",
        "model.add(Dropout(0.2))\n",
        "model.add(Dense(2, activation='softmax'))\n",
        "print(model.summary())"
      ],
      "execution_count": 0,
      "outputs": [
        {
          "output_type": "stream",
          "text": [
            "WARNING:tensorflow:From /usr/local/lib/python3.6/dist-packages/tensorflow/python/framework/op_def_library.py:263: colocate_with (from tensorflow.python.framework.ops) is deprecated and will be removed in a future version.\n",
            "Instructions for updating:\n",
            "Colocations handled automatically by placer.\n",
            "WARNING:tensorflow:From /usr/local/lib/python3.6/dist-packages/keras/backend/tensorflow_backend.py:3445: calling dropout (from tensorflow.python.ops.nn_ops) with keep_prob is deprecated and will be removed in a future version.\n",
            "Instructions for updating:\n",
            "Please use `rate` instead of `keep_prob`. Rate should be set to `rate = 1 - keep_prob`.\n",
            "_________________________________________________________________\n",
            "Layer (type)                 Output Shape              Param #   \n",
            "=================================================================\n",
            "conv2d_1 (Conv2D)            (None, 222, 222, 32)      896       \n",
            "_________________________________________________________________\n",
            "max_pooling2d_1 (MaxPooling2 (None, 111, 111, 32)      0         \n",
            "_________________________________________________________________\n",
            "conv2d_2 (Conv2D)            (None, 109, 109, 64)      18496     \n",
            "_________________________________________________________________\n",
            "max_pooling2d_2 (MaxPooling2 (None, 54, 54, 64)        0         \n",
            "_________________________________________________________________\n",
            "conv2d_3 (Conv2D)            (None, 52, 52, 64)        36928     \n",
            "_________________________________________________________________\n",
            "max_pooling2d_3 (MaxPooling2 (None, 26, 26, 64)        0         \n",
            "_________________________________________________________________\n",
            "flatten_1 (Flatten)          (None, 43264)             0         \n",
            "_________________________________________________________________\n",
            "dense_1 (Dense)              (None, 32)                1384480   \n",
            "_________________________________________________________________\n",
            "dropout_1 (Dropout)          (None, 32)                0         \n",
            "_________________________________________________________________\n",
            "dense_2 (Dense)              (None, 2)                 66        \n",
            "=================================================================\n",
            "Total params: 1,440,866\n",
            "Trainable params: 1,440,866\n",
            "Non-trainable params: 0\n",
            "_________________________________________________________________\n",
            "None\n"
          ],
          "name": "stdout"
        }
      ]
    },
    {
      "metadata": {
        "id": "a4WdAgw7bg_p",
        "colab_type": "code",
        "colab": {}
      },
      "cell_type": "code",
      "source": [
        "model.compile(loss='categorical_crossentropy',optimizer=optimizers.Adam(lr=1e-4),metrics=['acc'])"
      ],
      "execution_count": 0,
      "outputs": []
    },
    {
      "metadata": {
        "id": "N_VmxKvybg_s",
        "colab_type": "code",
        "colab": {}
      },
      "cell_type": "code",
      "source": [
        "# Using ImageDataGenerator to read images from directories\n",
        "# all images will be rescaled by 1./255 \n",
        "train_datagen = ImageDataGenerator(rescale=1./255,\n",
        "                                   rotation_range=45,\n",
        "                                   zoom_range=0.2,\n",
        "                                   horizontal_flip=True,\n",
        "                                   fill_mode='nearest') \n",
        "test_datagen = ImageDataGenerator(rescale=1./255)\n",
        "validation_datagen = ImageDataGenerator(rescale=1./255)"
      ],
      "execution_count": 0,
      "outputs": []
    },
    {
      "metadata": {
        "id": "OSzBs_7ybg_v",
        "colab_type": "code",
        "outputId": "95ec37f6-039c-4676-c85e-2a8c1e66e5c9",
        "colab": {
          "base_uri": "https://localhost:8080/",
          "height": 35
        }
      },
      "cell_type": "code",
      "source": [
        "train_generator = train_datagen.flow_from_directory(\n",
        "    train_dir,\n",
        "    target_size=(224,224),\n",
        "    batch_size=32,\n",
        "    class_mode='categorical')"
      ],
      "execution_count": 0,
      "outputs": [
        {
          "output_type": "stream",
          "text": [
            "Found 1600 images belonging to 2 classes.\n"
          ],
          "name": "stdout"
        }
      ]
    },
    {
      "metadata": {
        "id": "6mq9M6JYbg_z",
        "colab_type": "code",
        "outputId": "1429f155-8524-47ac-ebbc-0675dedb66a2",
        "colab": {
          "base_uri": "https://localhost:8080/",
          "height": 35
        }
      },
      "cell_type": "code",
      "source": [
        "validation_generator = validation_datagen.flow_from_directory(\n",
        "    validation_dir,\n",
        "    target_size=(224,224),\n",
        "    batch_size=8,\n",
        "    class_mode ='categorical')"
      ],
      "execution_count": 0,
      "outputs": [
        {
          "output_type": "stream",
          "text": [
            "Found 384 images belonging to 2 classes.\n"
          ],
          "name": "stdout"
        }
      ]
    },
    {
      "metadata": {
        "id": "GOWFm4ADbg_4",
        "colab_type": "code",
        "outputId": "b880fd8c-1f34-4146-de59-d42dc7b299f4",
        "colab": {
          "base_uri": "https://localhost:8080/",
          "height": 35
        }
      },
      "cell_type": "code",
      "source": [
        "test_generator = test_datagen.flow_from_directory(\n",
        "    test_dir,\n",
        "    target_size=(224,224),\n",
        "    batch_size=1,\n",
        "    class_mode='categorical')\n"
      ],
      "execution_count": 0,
      "outputs": [
        {
          "output_type": "stream",
          "text": [
            "Found 200 images belonging to 2 classes.\n"
          ],
          "name": "stdout"
        }
      ]
    },
    {
      "metadata": {
        "id": "SydBmY1sbg_9",
        "colab_type": "code",
        "colab": {}
      },
      "cell_type": "code",
      "source": [
        "from keras import callbacks as ca\n",
        "es = ca.EarlyStopping(monitor='val_loss', mode='min', verbose=0, patience=30)"
      ],
      "execution_count": 0,
      "outputs": []
    },
    {
      "metadata": {
        "collapsed": true,
        "id": "_KL6ghribhAA",
        "colab_type": "code",
        "outputId": "87889d74-de0a-4b38-e12f-6c6812f770b1",
        "colab": {
          "base_uri": "https://localhost:8080/",
          "height": 3874
        }
      },
      "cell_type": "code",
      "source": [
        "history = model.fit_generator(train_generator,\n",
        "                              steps_per_epoch= 50,\n",
        "                              epochs= 250,\n",
        "                              validation_data= validation_generator,\n",
        "                              validation_steps= 48,\n",
        "                              callbacks = [es])\n"
      ],
      "execution_count": 0,
      "outputs": [
        {
          "output_type": "stream",
          "text": [
            "WARNING:tensorflow:From /usr/local/lib/python3.6/dist-packages/tensorflow/python/ops/math_ops.py:3066: to_int32 (from tensorflow.python.ops.math_ops) is deprecated and will be removed in a future version.\n",
            "Instructions for updating:\n",
            "Use tf.cast instead.\n",
            "Epoch 1/250\n",
            "50/50 [==============================] - 540s 11s/step - loss: 0.6963 - acc: 0.5194 - val_loss: 0.6896 - val_acc: 0.5312\n",
            "Epoch 2/250\n",
            "50/50 [==============================] - 22s 446ms/step - loss: 0.6899 - acc: 0.5225 - val_loss: 0.6885 - val_acc: 0.5547\n",
            "Epoch 3/250\n",
            "50/50 [==============================] - 27s 535ms/step - loss: 0.6836 - acc: 0.5631 - val_loss: 0.6753 - val_acc: 0.6250\n",
            "Epoch 4/250\n",
            "50/50 [==============================] - 26s 527ms/step - loss: 0.6794 - acc: 0.5550 - val_loss: 0.6654 - val_acc: 0.6146\n",
            "Epoch 5/250\n",
            "50/50 [==============================] - 26s 526ms/step - loss: 0.6679 - acc: 0.5813 - val_loss: 0.6521 - val_acc: 0.6302\n",
            "Epoch 6/250\n",
            "50/50 [==============================] - 26s 522ms/step - loss: 0.6582 - acc: 0.5988 - val_loss: 0.6536 - val_acc: 0.6250\n",
            "Epoch 7/250\n",
            "50/50 [==============================] - 27s 534ms/step - loss: 0.6514 - acc: 0.5988 - val_loss: 0.6421 - val_acc: 0.6250\n",
            "Epoch 8/250\n",
            "50/50 [==============================] - 26s 522ms/step - loss: 0.6520 - acc: 0.6162 - val_loss: 0.6441 - val_acc: 0.6276\n",
            "Epoch 9/250\n",
            "50/50 [==============================] - 26s 524ms/step - loss: 0.6533 - acc: 0.6025 - val_loss: 0.6426 - val_acc: 0.6172\n",
            "Epoch 10/250\n",
            "50/50 [==============================] - 26s 528ms/step - loss: 0.6511 - acc: 0.6006 - val_loss: 0.6492 - val_acc: 0.6276\n",
            "Epoch 11/250\n",
            "50/50 [==============================] - 26s 528ms/step - loss: 0.6454 - acc: 0.6200 - val_loss: 0.6432 - val_acc: 0.6276\n",
            "Epoch 12/250\n",
            "50/50 [==============================] - 27s 532ms/step - loss: 0.6530 - acc: 0.6019 - val_loss: 0.6367 - val_acc: 0.6224\n",
            "Epoch 13/250\n",
            "50/50 [==============================] - 27s 530ms/step - loss: 0.6426 - acc: 0.6012 - val_loss: 0.6400 - val_acc: 0.6354\n",
            "Epoch 14/250\n",
            "50/50 [==============================] - 27s 542ms/step - loss: 0.6428 - acc: 0.6162 - val_loss: 0.6475 - val_acc: 0.6120\n",
            "Epoch 15/250\n",
            "50/50 [==============================] - 26s 526ms/step - loss: 0.6363 - acc: 0.6262 - val_loss: 0.6228 - val_acc: 0.6510\n",
            "Epoch 16/250\n",
            "50/50 [==============================] - 26s 528ms/step - loss: 0.6292 - acc: 0.6394 - val_loss: 0.6435 - val_acc: 0.6276\n",
            "Epoch 17/250\n",
            "50/50 [==============================] - 27s 532ms/step - loss: 0.6275 - acc: 0.6350 - val_loss: 0.6259 - val_acc: 0.6198\n",
            "Epoch 18/250\n",
            "50/50 [==============================] - 26s 530ms/step - loss: 0.6276 - acc: 0.6369 - val_loss: 0.6192 - val_acc: 0.6719\n",
            "Epoch 19/250\n",
            "50/50 [==============================] - 27s 532ms/step - loss: 0.6252 - acc: 0.6388 - val_loss: 0.6158 - val_acc: 0.6510\n",
            "Epoch 20/250\n",
            "50/50 [==============================] - 26s 527ms/step - loss: 0.6206 - acc: 0.6444 - val_loss: 0.6200 - val_acc: 0.6458\n",
            "Epoch 21/250\n",
            "50/50 [==============================] - 26s 513ms/step - loss: 0.6324 - acc: 0.6319 - val_loss: 0.6192 - val_acc: 0.6510\n",
            "Epoch 22/250\n",
            "50/50 [==============================] - 25s 508ms/step - loss: 0.6336 - acc: 0.6300 - val_loss: 0.6175 - val_acc: 0.6615\n",
            "Epoch 23/250\n",
            "50/50 [==============================] - 25s 499ms/step - loss: 0.6215 - acc: 0.6512 - val_loss: 0.6090 - val_acc: 0.6615\n",
            "Epoch 24/250\n",
            "50/50 [==============================] - 24s 483ms/step - loss: 0.6186 - acc: 0.6431 - val_loss: 0.6128 - val_acc: 0.6641\n",
            "Epoch 25/250\n",
            "50/50 [==============================] - 24s 481ms/step - loss: 0.6206 - acc: 0.6425 - val_loss: 0.6176 - val_acc: 0.6536\n",
            "Epoch 26/250\n",
            "50/50 [==============================] - 25s 491ms/step - loss: 0.6223 - acc: 0.6281 - val_loss: 0.5964 - val_acc: 0.6667\n",
            "Epoch 27/250\n",
            "50/50 [==============================] - 24s 488ms/step - loss: 0.6167 - acc: 0.6581 - val_loss: 0.5946 - val_acc: 0.6667\n",
            "Epoch 28/250\n",
            "50/50 [==============================] - 24s 483ms/step - loss: 0.6177 - acc: 0.6450 - val_loss: 0.6256 - val_acc: 0.6276\n",
            "Epoch 29/250\n",
            "50/50 [==============================] - 24s 485ms/step - loss: 0.6222 - acc: 0.6275 - val_loss: 0.5952 - val_acc: 0.6927\n",
            "Epoch 30/250\n",
            "50/50 [==============================] - 25s 493ms/step - loss: 0.6199 - acc: 0.6256 - val_loss: 0.6012 - val_acc: 0.6693\n",
            "Epoch 31/250\n",
            "50/50 [==============================] - 24s 488ms/step - loss: 0.6133 - acc: 0.6525 - val_loss: 0.6004 - val_acc: 0.6823\n",
            "Epoch 32/250\n",
            "50/50 [==============================] - 24s 489ms/step - loss: 0.6169 - acc: 0.6450 - val_loss: 0.5898 - val_acc: 0.6771\n",
            "Epoch 33/250\n",
            "50/50 [==============================] - 25s 496ms/step - loss: 0.6025 - acc: 0.6613 - val_loss: 0.6008 - val_acc: 0.7031\n",
            "Epoch 34/250\n",
            "50/50 [==============================] - 25s 491ms/step - loss: 0.6077 - acc: 0.6744 - val_loss: 0.5866 - val_acc: 0.6849\n",
            "Epoch 35/250\n",
            "50/50 [==============================] - 24s 485ms/step - loss: 0.5956 - acc: 0.6594 - val_loss: 0.5707 - val_acc: 0.6953\n",
            "Epoch 36/250\n",
            "50/50 [==============================] - 24s 484ms/step - loss: 0.6025 - acc: 0.6706 - val_loss: 0.5797 - val_acc: 0.6875\n",
            "Epoch 37/250\n",
            "50/50 [==============================] - 24s 487ms/step - loss: 0.6094 - acc: 0.6519 - val_loss: 0.5765 - val_acc: 0.6823\n",
            "Epoch 38/250\n",
            "50/50 [==============================] - 24s 487ms/step - loss: 0.5982 - acc: 0.6725 - val_loss: 0.5803 - val_acc: 0.6849\n",
            "Epoch 39/250\n",
            "50/50 [==============================] - 25s 492ms/step - loss: 0.6066 - acc: 0.6737 - val_loss: 0.5702 - val_acc: 0.7161\n",
            "Epoch 40/250\n",
            "50/50 [==============================] - 24s 480ms/step - loss: 0.5985 - acc: 0.6544 - val_loss: 0.5732 - val_acc: 0.6979\n",
            "Epoch 41/250\n",
            "50/50 [==============================] - 24s 478ms/step - loss: 0.6000 - acc: 0.6650 - val_loss: 0.5870 - val_acc: 0.6849\n",
            "Epoch 42/250\n",
            "50/50 [==============================] - 24s 479ms/step - loss: 0.5960 - acc: 0.6681 - val_loss: 0.5663 - val_acc: 0.7266\n",
            "Epoch 43/250\n",
            "50/50 [==============================] - 24s 487ms/step - loss: 0.5958 - acc: 0.6569 - val_loss: 0.5731 - val_acc: 0.7057\n",
            "Epoch 44/250\n",
            "50/50 [==============================] - 24s 479ms/step - loss: 0.6003 - acc: 0.6613 - val_loss: 0.5723 - val_acc: 0.6875\n",
            "Epoch 45/250\n",
            "50/50 [==============================] - 24s 479ms/step - loss: 0.5836 - acc: 0.6731 - val_loss: 0.5852 - val_acc: 0.7083\n",
            "Epoch 46/250\n",
            "50/50 [==============================] - 24s 481ms/step - loss: 0.5989 - acc: 0.6575 - val_loss: 0.5658 - val_acc: 0.7057\n",
            "Epoch 47/250\n",
            "50/50 [==============================] - 24s 485ms/step - loss: 0.5913 - acc: 0.6631 - val_loss: 0.5703 - val_acc: 0.7109\n",
            "Epoch 48/250\n",
            "50/50 [==============================] - 24s 488ms/step - loss: 0.5821 - acc: 0.6794 - val_loss: 0.5787 - val_acc: 0.7057\n",
            "Epoch 49/250\n",
            "50/50 [==============================] - 24s 482ms/step - loss: 0.5926 - acc: 0.6831 - val_loss: 0.5976 - val_acc: 0.6745\n",
            "Epoch 50/250\n",
            "50/50 [==============================] - 24s 481ms/step - loss: 0.5950 - acc: 0.6737 - val_loss: 0.5803 - val_acc: 0.7057\n",
            "Epoch 51/250\n",
            "50/50 [==============================] - 24s 483ms/step - loss: 0.5795 - acc: 0.6700 - val_loss: 0.5977 - val_acc: 0.6823\n",
            "Epoch 52/250\n",
            "50/50 [==============================] - 25s 495ms/step - loss: 0.5932 - acc: 0.6581 - val_loss: 0.5822 - val_acc: 0.6797\n",
            "Epoch 53/250\n",
            "50/50 [==============================] - 24s 487ms/step - loss: 0.5962 - acc: 0.6587 - val_loss: 0.5892 - val_acc: 0.6771\n",
            "Epoch 54/250\n",
            "50/50 [==============================] - 24s 486ms/step - loss: 0.5819 - acc: 0.6925 - val_loss: 0.5722 - val_acc: 0.7109\n",
            "Epoch 55/250\n",
            "50/50 [==============================] - 24s 486ms/step - loss: 0.5807 - acc: 0.6731 - val_loss: 0.5847 - val_acc: 0.6875\n",
            "Epoch 56/250\n",
            "50/50 [==============================] - 24s 487ms/step - loss: 0.5899 - acc: 0.6769 - val_loss: 0.5761 - val_acc: 0.7005\n",
            "Epoch 57/250\n",
            "50/50 [==============================] - 25s 500ms/step - loss: 0.5778 - acc: 0.6856 - val_loss: 0.5635 - val_acc: 0.7109\n",
            "Epoch 58/250\n",
            "50/50 [==============================] - 26s 523ms/step - loss: 0.5769 - acc: 0.6838 - val_loss: 0.5788 - val_acc: 0.6979\n",
            "Epoch 59/250\n",
            "50/50 [==============================] - 25s 495ms/step - loss: 0.5763 - acc: 0.6831 - val_loss: 0.5735 - val_acc: 0.7135\n",
            "Epoch 60/250\n",
            "50/50 [==============================] - 25s 498ms/step - loss: 0.5880 - acc: 0.6881 - val_loss: 0.5762 - val_acc: 0.7031\n",
            "Epoch 61/250\n",
            "50/50 [==============================] - 25s 499ms/step - loss: 0.5755 - acc: 0.6887 - val_loss: 0.5844 - val_acc: 0.7135\n",
            "Epoch 62/250\n",
            "50/50 [==============================] - 25s 501ms/step - loss: 0.5698 - acc: 0.6844 - val_loss: 0.5641 - val_acc: 0.7109\n",
            "Epoch 63/250\n",
            "50/50 [==============================] - 25s 499ms/step - loss: 0.5730 - acc: 0.6794 - val_loss: 0.5672 - val_acc: 0.7240\n",
            "Epoch 64/250\n",
            "50/50 [==============================] - 25s 502ms/step - loss: 0.5702 - acc: 0.6844 - val_loss: 0.5588 - val_acc: 0.7135\n",
            "Epoch 65/250\n",
            "50/50 [==============================] - 25s 507ms/step - loss: 0.5725 - acc: 0.6719 - val_loss: 0.5728 - val_acc: 0.6979\n",
            "Epoch 66/250\n",
            "50/50 [==============================] - 25s 500ms/step - loss: 0.5774 - acc: 0.7050 - val_loss: 0.5485 - val_acc: 0.7161\n",
            "Epoch 67/250\n",
            "50/50 [==============================] - 25s 499ms/step - loss: 0.5710 - acc: 0.6769 - val_loss: 0.5689 - val_acc: 0.7083\n",
            "Epoch 68/250\n",
            "50/50 [==============================] - 25s 504ms/step - loss: 0.5715 - acc: 0.6813 - val_loss: 0.5891 - val_acc: 0.6927\n",
            "Epoch 69/250\n",
            "50/50 [==============================] - 25s 497ms/step - loss: 0.5723 - acc: 0.7031 - val_loss: 0.5570 - val_acc: 0.7188\n",
            "Epoch 70/250\n",
            "50/50 [==============================] - 25s 500ms/step - loss: 0.5564 - acc: 0.7013 - val_loss: 0.5702 - val_acc: 0.6979\n",
            "Epoch 71/250\n",
            "50/50 [==============================] - 25s 499ms/step - loss: 0.5814 - acc: 0.6813 - val_loss: 0.5819 - val_acc: 0.6797\n",
            "Epoch 72/250\n",
            "50/50 [==============================] - 25s 497ms/step - loss: 0.5700 - acc: 0.6813 - val_loss: 0.5691 - val_acc: 0.7161\n",
            "Epoch 73/250\n",
            "50/50 [==============================] - 25s 493ms/step - loss: 0.5679 - acc: 0.6869 - val_loss: 0.5503 - val_acc: 0.7188\n",
            "Epoch 74/250\n",
            "50/50 [==============================] - 25s 491ms/step - loss: 0.5504 - acc: 0.7044 - val_loss: 0.5410 - val_acc: 0.7240\n",
            "Epoch 75/250\n",
            "50/50 [==============================] - 25s 493ms/step - loss: 0.5728 - acc: 0.6769 - val_loss: 0.5840 - val_acc: 0.6719\n",
            "Epoch 76/250\n",
            "50/50 [==============================] - 25s 497ms/step - loss: 0.5653 - acc: 0.6956 - val_loss: 0.5511 - val_acc: 0.7292\n",
            "Epoch 77/250\n",
            "50/50 [==============================] - 25s 500ms/step - loss: 0.5549 - acc: 0.7013 - val_loss: 0.5952 - val_acc: 0.6875\n",
            "Epoch 78/250\n",
            "50/50 [==============================] - 25s 492ms/step - loss: 0.5675 - acc: 0.6931 - val_loss: 0.5831 - val_acc: 0.6745\n",
            "Epoch 79/250\n",
            "50/50 [==============================] - 25s 494ms/step - loss: 0.5702 - acc: 0.6831 - val_loss: 0.5546 - val_acc: 0.7005\n",
            "Epoch 80/250\n",
            "50/50 [==============================] - 25s 500ms/step - loss: 0.5696 - acc: 0.6750 - val_loss: 0.5607 - val_acc: 0.7292\n",
            "Epoch 81/250\n",
            "50/50 [==============================] - 25s 494ms/step - loss: 0.5626 - acc: 0.7019 - val_loss: 0.5501 - val_acc: 0.6979\n",
            "Epoch 82/250\n",
            "50/50 [==============================] - 25s 496ms/step - loss: 0.5594 - acc: 0.6937 - val_loss: 0.5655 - val_acc: 0.7083\n",
            "Epoch 83/250\n",
            "50/50 [==============================] - 25s 496ms/step - loss: 0.5659 - acc: 0.6894 - val_loss: 0.5654 - val_acc: 0.7214\n",
            "Epoch 84/250\n",
            "50/50 [==============================] - 26s 513ms/step - loss: 0.5805 - acc: 0.6800 - val_loss: 0.5643 - val_acc: 0.7083\n",
            "Epoch 85/250\n",
            "50/50 [==============================] - 27s 536ms/step - loss: 0.5625 - acc: 0.6937 - val_loss: 0.5467 - val_acc: 0.7318\n",
            "Epoch 86/250\n",
            "50/50 [==============================] - 27s 531ms/step - loss: 0.5628 - acc: 0.7044 - val_loss: 0.5702 - val_acc: 0.7083\n",
            "Epoch 87/250\n",
            "50/50 [==============================] - 27s 532ms/step - loss: 0.5627 - acc: 0.7006 - val_loss: 0.5530 - val_acc: 0.7240\n",
            "Epoch 88/250\n",
            "50/50 [==============================] - 26s 530ms/step - loss: 0.5682 - acc: 0.7019 - val_loss: 0.5601 - val_acc: 0.7240\n",
            "Epoch 89/250\n",
            "50/50 [==============================] - 27s 543ms/step - loss: 0.5598 - acc: 0.6912 - val_loss: 0.5579 - val_acc: 0.7109\n",
            "Epoch 90/250\n",
            "50/50 [==============================] - 27s 540ms/step - loss: 0.5632 - acc: 0.7069 - val_loss: 0.5718 - val_acc: 0.7135\n",
            "Epoch 91/250\n",
            "50/50 [==============================] - 27s 537ms/step - loss: 0.5545 - acc: 0.6925 - val_loss: 0.5624 - val_acc: 0.7161\n",
            "Epoch 92/250\n",
            "50/50 [==============================] - 27s 535ms/step - loss: 0.5571 - acc: 0.6969 - val_loss: 0.5633 - val_acc: 0.7109\n",
            "Epoch 93/250\n",
            "50/50 [==============================] - 26s 526ms/step - loss: 0.5663 - acc: 0.6919 - val_loss: 0.5437 - val_acc: 0.7318\n",
            "Epoch 94/250\n",
            "50/50 [==============================] - 27s 530ms/step - loss: 0.5519 - acc: 0.7037 - val_loss: 0.5682 - val_acc: 0.7031\n",
            "Epoch 95/250\n",
            "50/50 [==============================] - 27s 531ms/step - loss: 0.5535 - acc: 0.7037 - val_loss: 0.5722 - val_acc: 0.6953\n",
            "Epoch 96/250\n",
            "50/50 [==============================] - 27s 531ms/step - loss: 0.5641 - acc: 0.6969 - val_loss: 0.5459 - val_acc: 0.7266\n",
            "Epoch 97/250\n",
            "50/50 [==============================] - 26s 528ms/step - loss: 0.5489 - acc: 0.7044 - val_loss: 0.5482 - val_acc: 0.7109\n",
            "Epoch 98/250\n",
            "50/50 [==============================] - 27s 535ms/step - loss: 0.5666 - acc: 0.6806 - val_loss: 0.5496 - val_acc: 0.7214\n",
            "Epoch 99/250\n",
            "50/50 [==============================] - 27s 531ms/step - loss: 0.5543 - acc: 0.7037 - val_loss: 0.5620 - val_acc: 0.7057\n",
            "Epoch 100/250\n",
            "50/50 [==============================] - 27s 535ms/step - loss: 0.5560 - acc: 0.7019 - val_loss: 0.5825 - val_acc: 0.6927\n",
            "Epoch 101/250\n",
            "50/50 [==============================] - 27s 541ms/step - loss: 0.5628 - acc: 0.6869 - val_loss: 0.5619 - val_acc: 0.7109\n",
            "Epoch 102/250\n",
            "50/50 [==============================] - 27s 531ms/step - loss: 0.5712 - acc: 0.6850 - val_loss: 0.5771 - val_acc: 0.6875\n",
            "Epoch 103/250\n",
            "50/50 [==============================] - 27s 538ms/step - loss: 0.5528 - acc: 0.7094 - val_loss: 0.5577 - val_acc: 0.7057\n",
            "Epoch 104/250\n",
            "50/50 [==============================] - 27s 535ms/step - loss: 0.5519 - acc: 0.7094 - val_loss: 0.5694 - val_acc: 0.7240\n"
          ],
          "name": "stdout"
        }
      ]
    },
    {
      "metadata": {
        "id": "M1DQN3jDbhAH",
        "colab_type": "code",
        "outputId": "6d79fbbf-2404-4258-dfce-819e87c20eda",
        "colab": {
          "base_uri": "https://localhost:8080/",
          "height": 361
        }
      },
      "cell_type": "code",
      "source": [
        "# Get training and test loss histories\n",
        "training_loss = history.history['loss']\n",
        "test_loss = history.history['val_loss']\n",
        "\n",
        "# Create count of the number of epochs\n",
        "epoch_count = range(1, len(training_loss) + 1)\n",
        "\n",
        "# Visualize loss history\n",
        "plt.plot(epoch_count, training_loss, 'r--')\n",
        "plt.plot(epoch_count, test_loss, 'b-')\n",
        "plt.legend(['Training Loss', 'Test Loss'])\n",
        "plt.xlabel('Epoch')\n",
        "plt.ylabel('Loss')\n",
        "plt.show();"
      ],
      "execution_count": 0,
      "outputs": [
        {
          "output_type": "display_data",
          "data": {
            "image/png": "[encoded data removed]",
            "text/plain": [
              "<Figure size 576x396 with 1 Axes>"
            ]
          },
          "metadata": {
            "tags": []
          }
        }
      ]
    },
    {
      "metadata": {
        "id": "aBVqzkGObhAM",
        "colab_type": "code",
        "outputId": "d0f685d5-4008-4fce-8a30-25cbab939caf",
        "colab": {
          "base_uri": "https://localhost:8080/",
          "height": 395
        }
      },
      "cell_type": "code",
      "source": [
        "# Plot Training History. \n",
        "# list all data in history \n",
        "print(history.history.keys()) \n",
        "\n",
        "# summarize history for accuracy \n",
        "plt.plot(history.history['acc']) \n",
        "plt.plot(history.history['val_acc']) \n",
        "plt.title('model accuracy') \n",
        "plt.ylabel('accuracy') \n",
        "plt.xlabel('epoch') \n",
        "plt.legend(['train', 'test'], loc='upper left') \n",
        "plt.show()"
      ],
      "execution_count": 0,
      "outputs": [
        {
          "output_type": "stream",
          "text": [
            "dict_keys(['val_loss', 'val_acc', 'loss', 'acc'])\n"
          ],
          "name": "stdout"
        },
        {
          "output_type": "display_data",
          "data": {
            "image/png": "[encoded data removed]",
            "text/plain": [
              "<Figure size 576x396 with 1 Axes>"
            ]
          },
          "metadata": {
            "tags": []
          }
        }
      ]
    },
    {
      "metadata": {
        "id": "dcBDVRvGbhAQ",
        "colab_type": "code",
        "outputId": "41b517a7-2e5a-4ec3-c27d-2d5b5509ce82",
        "colab": {
          "base_uri": "https://localhost:8080/",
          "height": 55
        }
      },
      "cell_type": "code",
      "source": [
        "print(model.trainable_weights)"
      ],
      "execution_count": 0,
      "outputs": [
        {
          "output_type": "stream",
          "text": [
            "[<tf.Variable 'conv2d_1/kernel:0' shape=(3, 3, 3, 32) dtype=float32_ref>, <tf.Variable 'conv2d_1/bias:0' shape=(32,) dtype=float32_ref>, <tf.Variable 'conv2d_2/kernel:0' shape=(3, 3, 32, 64) dtype=float32_ref>, <tf.Variable 'conv2d_2/bias:0' shape=(64,) dtype=float32_ref>, <tf.Variable 'conv2d_3/kernel:0' shape=(3, 3, 64, 64) dtype=float32_ref>, <tf.Variable 'conv2d_3/bias:0' shape=(64,) dtype=float32_ref>, <tf.Variable 'dense_1/kernel:0' shape=(43264, 32) dtype=float32_ref>, <tf.Variable 'dense_1/bias:0' shape=(32,) dtype=float32_ref>, <tf.Variable 'dense_2/kernel:0' shape=(32, 2) dtype=float32_ref>, <tf.Variable 'dense_2/bias:0' shape=(2,) dtype=float32_ref>]\n"
          ],
          "name": "stdout"
        }
      ]
    },
    {
      "metadata": {
        "id": "B0kXwZYjbhAV",
        "colab_type": "code",
        "outputId": "fb9a5b29-3bfe-404a-e92f-d5d8d049c85f",
        "colab": {
          "base_uri": "https://localhost:8080/",
          "height": 326
        }
      },
      "cell_type": "code",
      "source": [
        "from keras.preprocessing.image import ImageDataGenerator\n",
        "from sklearn.metrics import classification_report, confusion_matrix\n",
        "\n",
        "#Confution Matrix and Classification Report for Validation set\n",
        "Y_pred = model.predict_generator(validation_generator, 384//8,verbose=1)\n",
        "print(len(Y_pred))\n",
        "y_pred = np.argmax(Y_pred, axis=1)\n",
        "\n",
        "print('\\n\\nConfusion Matrix (Validation Image set)')\n",
        "print(confusion_matrix(validation_generator.classes, y_pred))\n",
        "print('Classification Report')\n",
        "target_names = ['Cardiomegaly', 'No Finding']\n",
        "print(classification_report(validation_generator.classes, y_pred, target_names=target_names))\n",
        "\n",
        "# validation_generator [200//2]\n",
        "# test_generator"
      ],
      "execution_count": 0,
      "outputs": [
        {
          "output_type": "stream",
          "text": [
            "48/48 [==============================] - 2s 36ms/step\n",
            "384\n",
            "\n",
            "\n",
            "Confusion Matrix (Validation Image set)\n",
            "[[ 89 103]\n",
            " [ 79 113]]\n",
            "Classification Report\n",
            "              precision    recall  f1-score   support\n",
            "\n",
            "Cardiomegaly       0.53      0.46      0.49       192\n",
            "  No Finding       0.52      0.59      0.55       192\n",
            "\n",
            "   micro avg       0.53      0.53      0.53       384\n",
            "   macro avg       0.53      0.53      0.52       384\n",
            "weighted avg       0.53      0.53      0.52       384\n",
            "\n"
          ],
          "name": "stdout"
        }
      ]
    },
    {
      "metadata": {
        "id": "t7bzyuXubhAZ",
        "colab_type": "code",
        "outputId": "b86d0500-e456-45f6-cdc8-2d69b587afee",
        "colab": {
          "base_uri": "https://localhost:8080/",
          "height": 326
        }
      },
      "cell_type": "code",
      "source": [
        "# Confution Matrix and Classification Report for Test Image set\n",
        "Y_pred = model.predict_generator(test_generator, 200//1,verbose=1)\n",
        "print(len(Y_pred))\n",
        "y_pred = np.argmax(Y_pred, axis=1)\n",
        "\n",
        "print('\\n\\nConfusion Matrix (Test Image set)')\n",
        "print(confusion_matrix(test_generator.classes, y_pred))\n",
        "print('Classification Report')\n",
        "target_names = ['Cardiomegaly', 'No Finding']\n",
        "print(classification_report(test_generator.classes, y_pred, target_names=target_names))\n"
      ],
      "execution_count": 0,
      "outputs": [
        {
          "output_type": "stream",
          "text": [
            "200/200 [==============================] - 56s 278ms/step\n",
            "200\n",
            "\n",
            "\n",
            "Confusion Matrix (Test Image set)\n",
            "[[35 65]\n",
            " [47 53]]\n",
            "Classification Report\n",
            "              precision    recall  f1-score   support\n",
            "\n",
            "Cardiomegaly       0.43      0.35      0.38       100\n",
            "  No Finding       0.45      0.53      0.49       100\n",
            "\n",
            "   micro avg       0.44      0.44      0.44       200\n",
            "   macro avg       0.44      0.44      0.44       200\n",
            "weighted avg       0.44      0.44      0.44       200\n",
            "\n"
          ],
          "name": "stdout"
        }
      ]
    },
    {
      "metadata": {
        "id": "isJr8DYvbhAe",
        "colab_type": "code",
        "outputId": "94b9869b-65d9-44a5-ba69-5a301caa15f2",
        "colab": {
          "base_uri": "https://localhost:8080/",
          "height": 35
        }
      },
      "cell_type": "code",
      "source": [
        "# serialize weights to HDF5\n",
        "model.save_weights(\"assign_1a_2_saved_model.h5\")\n",
        "print(\"Saved model to disk\")"
      ],
      "execution_count": 0,
      "outputs": [
        {
          "output_type": "stream",
          "text": [
            "Saved model to disk\n"
          ],
          "name": "stdout"
        }
      ]
    },
    {
      "metadata": {
        "id": "DtQZEGa4bhAk",
        "colab_type": "code",
        "colab": {}
      },
      "cell_type": "code",
      "source": [
        ""
      ],
      "execution_count": 0,
      "outputs": []
    },
    {
      "metadata": {
        "id": "kn6L7aTibhAn",
        "colab_type": "code",
        "colab": {}
      },
      "cell_type": "code",
      "source": [
        ""
      ],
      "execution_count": 0,
      "outputs": []
    }
  ]
}