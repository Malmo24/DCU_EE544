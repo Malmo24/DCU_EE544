{
  "nbformat": 4,
  "nbformat_minor": 0,
  "metadata": {
    "colab": {
      "name": "Q1b_VGG16_ConvNet.ipynb",
      "version": "0.3.2",
      "provenance": []
    },
    "kernelspec": {
      "name": "python3",
      "display_name": "Python 3"
    },
    "accelerator": "GPU"
  },
  "cells": [
    {
      "metadata": {
        "id": "hmQdlzr_qnyU",
        "colab_type": "code",
        "colab": {}
      },
      "cell_type": "code",
      "source": [
        "import os\n",
        "import matplotlib.pyplot as plt\n",
        "import numpy as np"
      ],
      "execution_count": 0,
      "outputs": []
    },
    {
      "metadata": {
        "id": "4lxvLT2lqnya",
        "colab_type": "code",
        "outputId": "1b981a72-1748-4794-9904-717a550564fa",
        "colab": {
          "base_uri": "https://localhost:8080/",
          "height": 35
        }
      },
      "cell_type": "code",
      "source": [
        "# import models\n",
        "from keras.models import Sequential\n",
        "\n",
        "from keras.layers import Dense, MaxPooling2D, Conv2D, Flatten, Dropout\n",
        "from keras.layers.advanced_activations import LeakyReLU \n",
        "from keras.layers import Activation\n",
        "from keras import optimizers\n",
        "from keras.constraints import maxnorm\n",
        "from keras_preprocessing.image import ImageDataGenerator\n",
        "from keras.utils import plot_model\n",
        "from keras.layers.convolutional import Convolution2D, MaxPooling2D, ZeroPadding2D"
      ],
      "execution_count": 2,
      "outputs": [
        {
          "output_type": "stream",
          "text": [
            "Using TensorFlow backend.\n"
          ],
          "name": "stderr"
        }
      ]
    },
    {
      "metadata": {
        "id": "8xsJ4cJ-qnyg",
        "colab_type": "code",
        "outputId": "b79aeaaf-40ac-4eca-964a-b99d5cc23600",
        "colab": {
          "base_uri": "https://localhost:8080/",
          "height": 54
        }
      },
      "cell_type": "code",
      "source": [
        "# Load the Drive helper and mount\n",
        "from google.colab import drive\n",
        "drive.mount('/content/drive', force_remount=True)\n",
        "\n",
        "# load data from google drive\n",
        "base_dir = \"/content/drive/My Drive/Colab Notebooks/imgdata_224\"\n",
        "\n",
        "train_dir = os.path.join(base_dir,'train')\n",
        "validation_dir = os.path.join(base_dir,'validation')\n",
        "test_dir = os.path.join(base_dir,'test')\n",
        "print(test_dir)"
      ],
      "execution_count": 3,
      "outputs": [
        {
          "output_type": "stream",
          "text": [
            "Mounted at /content/drive\n",
            "/content/drive/My Drive/Colab Notebooks/imgdata_224/test\n"
          ],
          "name": "stdout"
        }
      ]
    },
    {
      "metadata": {
        "id": "tpSeesjYqnyl",
        "colab_type": "code",
        "outputId": "52fad5d3-789d-4d7e-dc29-c4a5473e9000",
        "colab": {
          "base_uri": "https://localhost:8080/",
          "height": 890
        }
      },
      "cell_type": "code",
      "source": [
        "# import VGG16 model\n",
        "model = Sequential()\n",
        "\n",
        "model.add(Conv2D(48,kernel_size=3, activation ='relu', padding='same', input_shape=(224,224,3)))\n",
        "model.add(Conv2D(48,kernel_size=3, activation='relu', padding='same'))\n",
        "model.add(MaxPooling2D(pool_size=(2,2),strides = None))\n",
        "\n",
        "model.add(Conv2D(64,kernel_size=3, activation ='relu', padding='same'))\n",
        "model.add(Conv2D(64,kernel_size=3, activation='relu', padding='same'))\n",
        "model.add(MaxPooling2D(pool_size=(2,2),strides = None))\n",
        "\n",
        "model.add(Conv2D(128,kernel_size=3, activation ='relu', padding='same'))\n",
        "model.add(Conv2D(128,kernel_size=3, activation='relu', padding='same'))\n",
        "model.add(MaxPooling2D(pool_size=(2,2),strides = None))\n",
        "\n",
        "model.add(Conv2D(256,kernel_size=3, activation ='relu', padding='same'))\n",
        "model.add(Conv2D(256,kernel_size=3, activation='relu', padding='same'))\n",
        "model.add(MaxPooling2D(pool_size=(2,2),strides = None))\n",
        "\n",
        "model.add(Conv2D(512,kernel_size=3, activation ='relu', padding='same'))\n",
        "model.add(Conv2D(512,kernel_size=3, activation='relu', padding='same'))\n",
        "model.add(MaxPooling2D(pool_size=(2,2),strides = None))\n",
        "\n",
        "model.add(Flatten())\n",
        "model.add(Dense(1024,activation='linear'))\n",
        "model.add(LeakyReLU(alpha=.001))   # add an advanced activation\n",
        "model.add(Dropout(0.5))\n",
        "#model.add(Dense(1024,activation='relu'))\n",
        "#model.add(Dropout(0.5))\n",
        "model.add(Dense(2,activation='softmax'))\n",
        "print(model.summary())\n"
      ],
      "execution_count": 6,
      "outputs": [
        {
          "output_type": "stream",
          "text": [
            "_________________________________________________________________\n",
            "Layer (type)                 Output Shape              Param #   \n",
            "=================================================================\n",
            "conv2d_21 (Conv2D)           (None, 224, 224, 48)      1344      \n",
            "_________________________________________________________________\n",
            "conv2d_22 (Conv2D)           (None, 224, 224, 48)      20784     \n",
            "_________________________________________________________________\n",
            "max_pooling2d_11 (MaxPooling (None, 112, 112, 48)      0         \n",
            "_________________________________________________________________\n",
            "conv2d_23 (Conv2D)           (None, 112, 112, 64)      27712     \n",
            "_________________________________________________________________\n",
            "conv2d_24 (Conv2D)           (None, 112, 112, 64)      36928     \n",
            "_________________________________________________________________\n",
            "max_pooling2d_12 (MaxPooling (None, 56, 56, 64)        0         \n",
            "_________________________________________________________________\n",
            "conv2d_25 (Conv2D)           (None, 56, 56, 128)       73856     \n",
            "_________________________________________________________________\n",
            "conv2d_26 (Conv2D)           (None, 56, 56, 128)       147584    \n",
            "_________________________________________________________________\n",
            "max_pooling2d_13 (MaxPooling (None, 28, 28, 128)       0         \n",
            "_________________________________________________________________\n",
            "conv2d_27 (Conv2D)           (None, 28, 28, 256)       295168    \n",
            "_________________________________________________________________\n",
            "conv2d_28 (Conv2D)           (None, 28, 28, 256)       590080    \n",
            "_________________________________________________________________\n",
            "max_pooling2d_14 (MaxPooling (None, 14, 14, 256)       0         \n",
            "_________________________________________________________________\n",
            "conv2d_29 (Conv2D)           (None, 14, 14, 512)       1180160   \n",
            "_________________________________________________________________\n",
            "conv2d_30 (Conv2D)           (None, 14, 14, 512)       2359808   \n",
            "_________________________________________________________________\n",
            "max_pooling2d_15 (MaxPooling (None, 7, 7, 512)         0         \n",
            "_________________________________________________________________\n",
            "flatten_3 (Flatten)          (None, 25088)             0         \n",
            "_________________________________________________________________\n",
            "dense_5 (Dense)              (None, 1024)              25691136  \n",
            "_________________________________________________________________\n",
            "leaky_re_lu_3 (LeakyReLU)    (None, 1024)              0         \n",
            "_________________________________________________________________\n",
            "dropout_3 (Dropout)          (None, 1024)              0         \n",
            "_________________________________________________________________\n",
            "dense_6 (Dense)              (None, 2)                 2050      \n",
            "=================================================================\n",
            "Total params: 30,426,610\n",
            "Trainable params: 30,426,610\n",
            "Non-trainable params: 0\n",
            "_________________________________________________________________\n",
            "None\n"
          ],
          "name": "stdout"
        }
      ]
    },
    {
      "metadata": {
        "id": "kMiPU5SYqnyp",
        "colab_type": "code",
        "colab": {}
      },
      "cell_type": "code",
      "source": [
        "sgd = optimizers.SGD(lr=0.001, decay=1e-6, momentum=0.9, nesterov=True)\n",
        "model.compile(loss='categorical_crossentropy',optimizer=sgd,metrics=['acc'])\n",
        "# model.compile(loss='categorical_crossentropy',optimizer=optimizers.Adam(lr=1e-3),metrics=['acc'])"
      ],
      "execution_count": 0,
      "outputs": []
    },
    {
      "metadata": {
        "id": "1ww4bKZdqnyt",
        "colab_type": "code",
        "colab": {}
      },
      "cell_type": "code",
      "source": [
        "# Using ImageDataGenerator to read images from directories\n",
        "# all images will be rescaled by 1./255 \n",
        "train_datagen = ImageDataGenerator(rescale=1./255,\n",
        "                                   rotation_range=40,\n",
        "                                   zoom_range=0.2,\n",
        "                                   horizontal_flip=True,\n",
        "                                   fill_mode='nearest') \n",
        "test_datagen = ImageDataGenerator(rescale=1./255)\n",
        "validation_datagen = ImageDataGenerator(rescale=1./255)"
      ],
      "execution_count": 0,
      "outputs": []
    },
    {
      "metadata": {
        "id": "e01JAz5Jqnyw",
        "colab_type": "code",
        "outputId": "11c9c985-480e-4938-eef7-12b28948292e",
        "colab": {
          "base_uri": "https://localhost:8080/",
          "height": 35
        }
      },
      "cell_type": "code",
      "source": [
        "train_generator = train_datagen.flow_from_directory(\n",
        "    train_dir,\n",
        "    target_size=(224,224),\n",
        "    batch_size=32,\n",
        "    class_mode='categorical')"
      ],
      "execution_count": 9,
      "outputs": [
        {
          "output_type": "stream",
          "text": [
            "Found 1600 images belonging to 2 classes.\n"
          ],
          "name": "stdout"
        }
      ]
    },
    {
      "metadata": {
        "id": "CyoU-nE9qny1",
        "colab_type": "code",
        "outputId": "f4795484-10cb-4b96-f732-e6e3d1c5644d",
        "colab": {
          "base_uri": "https://localhost:8080/",
          "height": 35
        }
      },
      "cell_type": "code",
      "source": [
        "validation_generator = validation_datagen.flow_from_directory(\n",
        "    validation_dir,\n",
        "    target_size=(224,224),\n",
        "    batch_size=8,\n",
        "    class_mode ='categorical')"
      ],
      "execution_count": 10,
      "outputs": [
        {
          "output_type": "stream",
          "text": [
            "Found 384 images belonging to 2 classes.\n"
          ],
          "name": "stdout"
        }
      ]
    },
    {
      "metadata": {
        "id": "PwK63hphqny6",
        "colab_type": "code",
        "outputId": "79c3d107-8720-4c28-a6a9-7ca410f40a00",
        "colab": {
          "base_uri": "https://localhost:8080/",
          "height": 35
        }
      },
      "cell_type": "code",
      "source": [
        "test_generator = test_datagen.flow_from_directory(\n",
        "    test_dir,\n",
        "    target_size=(224,224),\n",
        "    batch_size=1,\n",
        "    class_mode='categorical')\n"
      ],
      "execution_count": 11,
      "outputs": [
        {
          "output_type": "stream",
          "text": [
            "Found 200 images belonging to 2 classes.\n"
          ],
          "name": "stdout"
        }
      ]
    },
    {
      "metadata": {
        "id": "QpcLfg20qny_",
        "colab_type": "code",
        "colab": {}
      },
      "cell_type": "code",
      "source": [
        "from keras import callbacks as ca\n",
        "es = ca.EarlyStopping(monitor='val_loss', mode='min', verbose=1, patience=10)"
      ],
      "execution_count": 0,
      "outputs": []
    },
    {
      "metadata": {
        "collapsed": true,
        "id": "kdmaP-yMqnzC",
        "colab_type": "code",
        "outputId": "85eafcf2-f397-4d3f-9424-5ef0e96636b4",
        "colab": {
          "base_uri": "https://localhost:8080/",
          "height": 5710
        }
      },
      "cell_type": "code",
      "source": [
        "history = model.fit_generator(\n",
        "    train_generator,\n",
        "    steps_per_epoch=50,\n",
        "    epochs=250,\n",
        "    validation_data=validation_generator,\n",
        "    validation_steps=48,\n",
        "    callbacks=[es])\n"
      ],
      "execution_count": 13,
      "outputs": [
        {
          "output_type": "stream",
          "text": [
            "WARNING:tensorflow:From /usr/local/lib/python3.6/dist-packages/tensorflow/python/ops/math_ops.py:3066: to_int32 (from tensorflow.python.ops.math_ops) is deprecated and will be removed in a future version.\n",
            "Instructions for updating:\n",
            "Use tf.cast instead.\n",
            "Epoch 1/250\n",
            "50/50 [==============================] - 37s 744ms/step - loss: 0.6932 - acc: 0.5088 - val_loss: 0.6930 - val_acc: 0.5469\n",
            "Epoch 2/250\n",
            "50/50 [==============================] - 33s 659ms/step - loss: 0.6930 - acc: 0.5125 - val_loss: 0.6928 - val_acc: 0.5365\n",
            "Epoch 3/250\n",
            "50/50 [==============================] - 33s 669ms/step - loss: 0.6931 - acc: 0.4888 - val_loss: 0.6927 - val_acc: 0.5885\n",
            "Epoch 4/250\n",
            "50/50 [==============================] - 33s 659ms/step - loss: 0.6926 - acc: 0.5269 - val_loss: 0.6925 - val_acc: 0.5990\n",
            "Epoch 5/250\n",
            "50/50 [==============================] - 33s 657ms/step - loss: 0.6927 - acc: 0.5331 - val_loss: 0.6924 - val_acc: 0.5964\n",
            "Epoch 6/250\n",
            "50/50 [==============================] - 32s 648ms/step - loss: 0.6923 - acc: 0.5425 - val_loss: 0.6922 - val_acc: 0.5990\n",
            "Epoch 7/250\n",
            "50/50 [==============================] - 31s 629ms/step - loss: 0.6919 - acc: 0.5537 - val_loss: 0.6920 - val_acc: 0.5911\n",
            "Epoch 8/250\n",
            "50/50 [==============================] - 31s 623ms/step - loss: 0.6918 - acc: 0.5319 - val_loss: 0.6918 - val_acc: 0.5859\n",
            "Epoch 9/250\n",
            "50/50 [==============================] - 31s 615ms/step - loss: 0.6918 - acc: 0.5481 - val_loss: 0.6915 - val_acc: 0.5781\n",
            "Epoch 10/250\n",
            "50/50 [==============================] - 30s 607ms/step - loss: 0.6908 - acc: 0.5681 - val_loss: 0.6911 - val_acc: 0.6068\n",
            "Epoch 11/250\n",
            "50/50 [==============================] - 30s 609ms/step - loss: 0.6913 - acc: 0.5594 - val_loss: 0.6907 - val_acc: 0.5521\n",
            "Epoch 12/250\n",
            "50/50 [==============================] - 31s 615ms/step - loss: 0.6902 - acc: 0.5481 - val_loss: 0.6901 - val_acc: 0.5677\n",
            "Epoch 13/250\n",
            "50/50 [==============================] - 31s 622ms/step - loss: 0.6893 - acc: 0.5681 - val_loss: 0.6890 - val_acc: 0.5911\n",
            "Epoch 14/250\n",
            "50/50 [==============================] - 31s 622ms/step - loss: 0.6874 - acc: 0.5737 - val_loss: 0.6872 - val_acc: 0.5938\n",
            "Epoch 15/250\n",
            "50/50 [==============================] - 31s 620ms/step - loss: 0.6848 - acc: 0.5725 - val_loss: 0.6842 - val_acc: 0.5911\n",
            "Epoch 16/250\n",
            "50/50 [==============================] - 31s 628ms/step - loss: 0.6823 - acc: 0.5806 - val_loss: 0.6800 - val_acc: 0.5964\n",
            "Epoch 17/250\n",
            "50/50 [==============================] - 31s 626ms/step - loss: 0.6752 - acc: 0.5863 - val_loss: 0.6710 - val_acc: 0.6068\n",
            "Epoch 18/250\n",
            "50/50 [==============================] - 31s 624ms/step - loss: 0.6691 - acc: 0.5931 - val_loss: 0.6621 - val_acc: 0.5911\n",
            "Epoch 19/250\n",
            "50/50 [==============================] - 31s 625ms/step - loss: 0.6641 - acc: 0.6006 - val_loss: 0.6601 - val_acc: 0.6172\n",
            "Epoch 20/250\n",
            "50/50 [==============================] - 31s 624ms/step - loss: 0.6678 - acc: 0.5931 - val_loss: 0.6569 - val_acc: 0.6016\n",
            "Epoch 21/250\n",
            "50/50 [==============================] - 31s 626ms/step - loss: 0.6640 - acc: 0.5863 - val_loss: 0.6624 - val_acc: 0.6042\n",
            "Epoch 22/250\n",
            "50/50 [==============================] - 31s 626ms/step - loss: 0.6592 - acc: 0.6106 - val_loss: 0.6579 - val_acc: 0.6042\n",
            "Epoch 23/250\n",
            "50/50 [==============================] - 31s 624ms/step - loss: 0.6519 - acc: 0.6194 - val_loss: 0.6498 - val_acc: 0.6120\n",
            "Epoch 24/250\n",
            "50/50 [==============================] - 31s 623ms/step - loss: 0.6535 - acc: 0.6181 - val_loss: 0.6475 - val_acc: 0.6120\n",
            "Epoch 25/250\n",
            "50/50 [==============================] - 31s 622ms/step - loss: 0.6532 - acc: 0.6156 - val_loss: 0.6396 - val_acc: 0.6198\n",
            "Epoch 26/250\n",
            "50/50 [==============================] - 31s 623ms/step - loss: 0.6502 - acc: 0.6169 - val_loss: 0.6513 - val_acc: 0.6172\n",
            "Epoch 27/250\n",
            "50/50 [==============================] - 31s 622ms/step - loss: 0.6405 - acc: 0.6294 - val_loss: 0.6371 - val_acc: 0.6250\n",
            "Epoch 28/250\n",
            "50/50 [==============================] - 31s 620ms/step - loss: 0.6460 - acc: 0.6225 - val_loss: 0.6383 - val_acc: 0.6172\n",
            "Epoch 29/250\n",
            "50/50 [==============================] - 31s 622ms/step - loss: 0.6373 - acc: 0.6437 - val_loss: 0.6426 - val_acc: 0.6276\n",
            "Epoch 30/250\n",
            "50/50 [==============================] - 31s 616ms/step - loss: 0.6390 - acc: 0.6344 - val_loss: 0.6365 - val_acc: 0.6302\n",
            "Epoch 31/250\n",
            "50/50 [==============================] - 31s 616ms/step - loss: 0.6403 - acc: 0.6375 - val_loss: 0.6295 - val_acc: 0.6224\n",
            "Epoch 32/250\n",
            "50/50 [==============================] - 31s 613ms/step - loss: 0.6374 - acc: 0.6456 - val_loss: 0.6270 - val_acc: 0.6380\n",
            "Epoch 33/250\n",
            "50/50 [==============================] - 31s 620ms/step - loss: 0.6302 - acc: 0.6512 - val_loss: 0.6243 - val_acc: 0.6432\n",
            "Epoch 34/250\n",
            "50/50 [==============================] - 32s 632ms/step - loss: 0.6342 - acc: 0.6450 - val_loss: 0.6368 - val_acc: 0.6380\n",
            "Epoch 35/250\n",
            "50/50 [==============================] - 33s 657ms/step - loss: 0.6276 - acc: 0.6500 - val_loss: 0.6301 - val_acc: 0.6406\n",
            "Epoch 36/250\n",
            "50/50 [==============================] - 32s 631ms/step - loss: 0.6258 - acc: 0.6538 - val_loss: 0.6321 - val_acc: 0.6406\n",
            "Epoch 37/250\n",
            "50/50 [==============================] - 32s 630ms/step - loss: 0.6322 - acc: 0.6375 - val_loss: 0.6333 - val_acc: 0.6484\n",
            "Epoch 38/250\n",
            "50/50 [==============================] - 32s 631ms/step - loss: 0.6233 - acc: 0.6462 - val_loss: 0.6221 - val_acc: 0.6484\n",
            "Epoch 39/250\n",
            "50/50 [==============================] - 31s 629ms/step - loss: 0.6259 - acc: 0.6494 - val_loss: 0.6200 - val_acc: 0.6667\n",
            "Epoch 40/250\n",
            "50/50 [==============================] - 31s 628ms/step - loss: 0.6249 - acc: 0.6600 - val_loss: 0.6231 - val_acc: 0.6510\n",
            "Epoch 41/250\n",
            "50/50 [==============================] - 32s 631ms/step - loss: 0.6222 - acc: 0.6625 - val_loss: 0.6272 - val_acc: 0.6458\n",
            "Epoch 42/250\n",
            "50/50 [==============================] - 32s 631ms/step - loss: 0.6296 - acc: 0.6469 - val_loss: 0.6186 - val_acc: 0.6458\n",
            "Epoch 43/250\n",
            "50/50 [==============================] - 31s 628ms/step - loss: 0.6188 - acc: 0.6625 - val_loss: 0.6185 - val_acc: 0.6536\n",
            "Epoch 44/250\n",
            "50/50 [==============================] - 31s 630ms/step - loss: 0.6158 - acc: 0.6606 - val_loss: 0.6221 - val_acc: 0.6510\n",
            "Epoch 45/250\n",
            "50/50 [==============================] - 32s 630ms/step - loss: 0.6235 - acc: 0.6512 - val_loss: 0.6137 - val_acc: 0.6510\n",
            "Epoch 46/250\n",
            "50/50 [==============================] - 31s 626ms/step - loss: 0.6172 - acc: 0.6606 - val_loss: 0.6118 - val_acc: 0.6641\n",
            "Epoch 47/250\n",
            "50/50 [==============================] - 31s 625ms/step - loss: 0.6129 - acc: 0.6663 - val_loss: 0.6140 - val_acc: 0.6536\n",
            "Epoch 48/250\n",
            "50/50 [==============================] - 31s 630ms/step - loss: 0.6111 - acc: 0.6663 - val_loss: 0.6155 - val_acc: 0.6719\n",
            "Epoch 49/250\n",
            "50/50 [==============================] - 31s 627ms/step - loss: 0.6137 - acc: 0.6619 - val_loss: 0.6210 - val_acc: 0.6380\n",
            "Epoch 50/250\n",
            "50/50 [==============================] - 31s 627ms/step - loss: 0.6072 - acc: 0.6669 - val_loss: 0.6072 - val_acc: 0.6667\n",
            "Epoch 51/250\n",
            "50/50 [==============================] - 31s 628ms/step - loss: 0.6103 - acc: 0.6681 - val_loss: 0.6113 - val_acc: 0.6562\n",
            "Epoch 52/250\n",
            "50/50 [==============================] - 32s 630ms/step - loss: 0.6116 - acc: 0.6650 - val_loss: 0.6059 - val_acc: 0.6745\n",
            "Epoch 53/250\n",
            "50/50 [==============================] - 31s 626ms/step - loss: 0.6156 - acc: 0.6794 - val_loss: 0.6056 - val_acc: 0.6615\n",
            "Epoch 54/250\n",
            "50/50 [==============================] - 31s 627ms/step - loss: 0.6128 - acc: 0.6706 - val_loss: 0.6005 - val_acc: 0.6927\n",
            "Epoch 55/250\n",
            "50/50 [==============================] - 31s 626ms/step - loss: 0.6010 - acc: 0.6750 - val_loss: 0.5932 - val_acc: 0.6979\n",
            "Epoch 56/250\n",
            "50/50 [==============================] - 32s 631ms/step - loss: 0.6058 - acc: 0.6838 - val_loss: 0.5916 - val_acc: 0.6927\n",
            "Epoch 57/250\n",
            "50/50 [==============================] - 31s 630ms/step - loss: 0.5986 - acc: 0.6787 - val_loss: 0.6040 - val_acc: 0.6693\n",
            "Epoch 58/250\n",
            "50/50 [==============================] - 31s 621ms/step - loss: 0.6008 - acc: 0.6769 - val_loss: 0.6000 - val_acc: 0.6953\n",
            "Epoch 59/250\n",
            "50/50 [==============================] - 33s 658ms/step - loss: 0.6065 - acc: 0.6775 - val_loss: 0.5902 - val_acc: 0.6979\n",
            "Epoch 60/250\n",
            "50/50 [==============================] - 33s 655ms/step - loss: 0.5985 - acc: 0.6800 - val_loss: 0.5933 - val_acc: 0.6875\n",
            "Epoch 61/250\n",
            "50/50 [==============================] - 33s 656ms/step - loss: 0.6002 - acc: 0.6863 - val_loss: 0.6089 - val_acc: 0.6536\n",
            "Epoch 62/250\n",
            "50/50 [==============================] - 33s 660ms/step - loss: 0.5987 - acc: 0.6863 - val_loss: 0.5892 - val_acc: 0.6927\n",
            "Epoch 63/250\n",
            "50/50 [==============================] - 33s 654ms/step - loss: 0.6017 - acc: 0.6806 - val_loss: 0.5832 - val_acc: 0.7135\n",
            "Epoch 64/250\n",
            "50/50 [==============================] - 33s 656ms/step - loss: 0.5922 - acc: 0.6838 - val_loss: 0.5820 - val_acc: 0.6953\n",
            "Epoch 65/250\n",
            "50/50 [==============================] - 33s 652ms/step - loss: 0.5920 - acc: 0.6894 - val_loss: 0.5807 - val_acc: 0.7005\n",
            "Epoch 66/250\n",
            "50/50 [==============================] - 33s 655ms/step - loss: 0.6006 - acc: 0.6769 - val_loss: 0.5768 - val_acc: 0.7109\n",
            "Epoch 67/250\n",
            "50/50 [==============================] - 33s 653ms/step - loss: 0.5850 - acc: 0.6838 - val_loss: 0.5896 - val_acc: 0.6953\n",
            "Epoch 68/250\n",
            "50/50 [==============================] - 33s 656ms/step - loss: 0.5896 - acc: 0.6844 - val_loss: 0.5758 - val_acc: 0.7031\n",
            "Epoch 69/250\n",
            "50/50 [==============================] - 33s 657ms/step - loss: 0.5846 - acc: 0.6906 - val_loss: 0.5704 - val_acc: 0.7135\n",
            "Epoch 70/250\n",
            "50/50 [==============================] - 33s 657ms/step - loss: 0.5854 - acc: 0.6838 - val_loss: 0.5687 - val_acc: 0.7135\n",
            "Epoch 71/250\n",
            "50/50 [==============================] - 33s 658ms/step - loss: 0.5869 - acc: 0.7087 - val_loss: 0.5729 - val_acc: 0.7161\n",
            "Epoch 72/250\n",
            "50/50 [==============================] - 33s 660ms/step - loss: 0.5814 - acc: 0.6944 - val_loss: 0.5678 - val_acc: 0.7083\n",
            "Epoch 73/250\n",
            "50/50 [==============================] - 33s 658ms/step - loss: 0.5839 - acc: 0.7000 - val_loss: 0.5710 - val_acc: 0.7188\n",
            "Epoch 74/250\n",
            "50/50 [==============================] - 33s 658ms/step - loss: 0.5712 - acc: 0.7150 - val_loss: 0.5668 - val_acc: 0.7057\n",
            "Epoch 75/250\n",
            "50/50 [==============================] - 33s 651ms/step - loss: 0.5801 - acc: 0.7000 - val_loss: 0.5622 - val_acc: 0.7214\n",
            "Epoch 76/250\n",
            "50/50 [==============================] - 32s 643ms/step - loss: 0.5919 - acc: 0.6731 - val_loss: 0.5640 - val_acc: 0.7240\n",
            "Epoch 77/250\n",
            "50/50 [==============================] - 32s 635ms/step - loss: 0.5720 - acc: 0.7037 - val_loss: 0.5697 - val_acc: 0.7344\n",
            "Epoch 78/250\n",
            "50/50 [==============================] - 32s 631ms/step - loss: 0.5717 - acc: 0.6963 - val_loss: 0.5598 - val_acc: 0.7188\n",
            "Epoch 79/250\n",
            "50/50 [==============================] - 31s 613ms/step - loss: 0.5706 - acc: 0.6975 - val_loss: 0.5781 - val_acc: 0.6875\n",
            "Epoch 80/250\n",
            "50/50 [==============================] - 31s 613ms/step - loss: 0.5691 - acc: 0.7062 - val_loss: 0.5479 - val_acc: 0.7266\n",
            "Epoch 81/250\n",
            "50/50 [==============================] - 31s 620ms/step - loss: 0.5692 - acc: 0.7056 - val_loss: 0.5585 - val_acc: 0.7031\n",
            "Epoch 82/250\n",
            "50/50 [==============================] - 31s 618ms/step - loss: 0.5680 - acc: 0.7156 - val_loss: 0.5523 - val_acc: 0.7214\n",
            "Epoch 83/250\n",
            "50/50 [==============================] - 31s 623ms/step - loss: 0.5615 - acc: 0.7050 - val_loss: 0.5574 - val_acc: 0.7240\n",
            "Epoch 84/250\n",
            "50/50 [==============================] - 31s 621ms/step - loss: 0.5613 - acc: 0.7000 - val_loss: 0.5462 - val_acc: 0.7370\n",
            "Epoch 85/250\n",
            "50/50 [==============================] - 31s 621ms/step - loss: 0.5585 - acc: 0.7169 - val_loss: 0.5659 - val_acc: 0.7109\n",
            "Epoch 86/250\n",
            "50/50 [==============================] - 31s 620ms/step - loss: 0.5631 - acc: 0.7050 - val_loss: 0.5669 - val_acc: 0.6875\n",
            "Epoch 87/250\n",
            "50/50 [==============================] - 31s 623ms/step - loss: 0.5627 - acc: 0.7100 - val_loss: 0.5426 - val_acc: 0.7422\n",
            "Epoch 88/250\n",
            "50/50 [==============================] - 31s 624ms/step - loss: 0.5630 - acc: 0.7087 - val_loss: 0.5352 - val_acc: 0.7500\n",
            "Epoch 89/250\n",
            "50/50 [==============================] - 31s 626ms/step - loss: 0.5625 - acc: 0.7075 - val_loss: 0.5399 - val_acc: 0.7474\n",
            "Epoch 90/250\n",
            "50/50 [==============================] - 31s 627ms/step - loss: 0.5532 - acc: 0.7119 - val_loss: 0.5375 - val_acc: 0.7344\n",
            "Epoch 91/250\n",
            "50/50 [==============================] - 31s 628ms/step - loss: 0.5561 - acc: 0.7144 - val_loss: 0.5323 - val_acc: 0.7552\n",
            "Epoch 92/250\n",
            "50/50 [==============================] - 31s 623ms/step - loss: 0.5427 - acc: 0.7188 - val_loss: 0.5362 - val_acc: 0.7422\n",
            "Epoch 93/250\n",
            "50/50 [==============================] - 31s 628ms/step - loss: 0.5496 - acc: 0.7144 - val_loss: 0.5376 - val_acc: 0.7370\n",
            "Epoch 94/250\n",
            "50/50 [==============================] - 31s 628ms/step - loss: 0.5502 - acc: 0.7163 - val_loss: 0.5437 - val_acc: 0.7292\n",
            "Epoch 95/250\n",
            "50/50 [==============================] - 31s 628ms/step - loss: 0.5509 - acc: 0.7212 - val_loss: 0.5403 - val_acc: 0.7370\n",
            "Epoch 96/250\n",
            "50/50 [==============================] - 31s 628ms/step - loss: 0.5437 - acc: 0.7381 - val_loss: 0.5463 - val_acc: 0.7266\n",
            "Epoch 97/250\n",
            "50/50 [==============================] - 31s 630ms/step - loss: 0.5522 - acc: 0.7131 - val_loss: 0.5472 - val_acc: 0.7292\n",
            "Epoch 98/250\n",
            "50/50 [==============================] - 31s 626ms/step - loss: 0.5415 - acc: 0.7281 - val_loss: 0.5440 - val_acc: 0.7266\n",
            "Epoch 99/250\n",
            "50/50 [==============================] - 31s 624ms/step - loss: 0.5404 - acc: 0.7262 - val_loss: 0.5310 - val_acc: 0.7344\n",
            "Epoch 100/250\n",
            "50/50 [==============================] - 31s 621ms/step - loss: 0.5387 - acc: 0.7300 - val_loss: 0.5292 - val_acc: 0.7422\n",
            "Epoch 101/250\n",
            "50/50 [==============================] - 31s 620ms/step - loss: 0.5400 - acc: 0.7206 - val_loss: 0.5292 - val_acc: 0.7396\n",
            "Epoch 102/250\n",
            "50/50 [==============================] - 31s 614ms/step - loss: 0.5481 - acc: 0.7306 - val_loss: 0.5354 - val_acc: 0.7344\n",
            "Epoch 103/250\n",
            "50/50 [==============================] - 31s 619ms/step - loss: 0.5348 - acc: 0.7381 - val_loss: 0.5557 - val_acc: 0.7188\n",
            "Epoch 104/250\n",
            "50/50 [==============================] - 31s 618ms/step - loss: 0.5360 - acc: 0.7200 - val_loss: 0.5334 - val_acc: 0.7526\n",
            "Epoch 105/250\n",
            "50/50 [==============================] - 31s 620ms/step - loss: 0.5446 - acc: 0.7144 - val_loss: 0.5207 - val_acc: 0.7552\n",
            "Epoch 106/250\n",
            "50/50 [==============================] - 32s 648ms/step - loss: 0.5337 - acc: 0.7244 - val_loss: 0.5306 - val_acc: 0.7448\n",
            "Epoch 107/250\n",
            "50/50 [==============================] - 31s 626ms/step - loss: 0.5374 - acc: 0.7325 - val_loss: 0.5302 - val_acc: 0.7448\n",
            "Epoch 108/250\n",
            "50/50 [==============================] - 31s 628ms/step - loss: 0.5379 - acc: 0.7244 - val_loss: 0.5277 - val_acc: 0.7474\n",
            "Epoch 109/250\n",
            "50/50 [==============================] - 31s 629ms/step - loss: 0.5285 - acc: 0.7356 - val_loss: 0.5400 - val_acc: 0.7292\n",
            "Epoch 110/250\n",
            "50/50 [==============================] - 31s 629ms/step - loss: 0.5330 - acc: 0.7288 - val_loss: 0.5176 - val_acc: 0.7474\n",
            "Epoch 111/250\n",
            "50/50 [==============================] - 32s 630ms/step - loss: 0.5325 - acc: 0.7244 - val_loss: 0.5342 - val_acc: 0.7318\n",
            "Epoch 112/250\n",
            "50/50 [==============================] - 31s 626ms/step - loss: 0.5352 - acc: 0.7175 - val_loss: 0.5341 - val_acc: 0.7500\n",
            "Epoch 113/250\n",
            "50/50 [==============================] - 31s 626ms/step - loss: 0.5311 - acc: 0.7244 - val_loss: 0.5222 - val_acc: 0.7422\n",
            "Epoch 114/250\n",
            "50/50 [==============================] - 31s 625ms/step - loss: 0.5255 - acc: 0.7375 - val_loss: 0.5203 - val_acc: 0.7448\n",
            "Epoch 115/250\n",
            "50/50 [==============================] - 31s 624ms/step - loss: 0.5300 - acc: 0.7325 - val_loss: 0.5325 - val_acc: 0.7344\n",
            "Epoch 116/250\n",
            "50/50 [==============================] - 31s 629ms/step - loss: 0.5370 - acc: 0.7250 - val_loss: 0.5131 - val_acc: 0.7526\n",
            "Epoch 117/250\n",
            "50/50 [==============================] - 31s 628ms/step - loss: 0.5118 - acc: 0.7381 - val_loss: 0.5318 - val_acc: 0.7422\n",
            "Epoch 118/250\n",
            "50/50 [==============================] - 31s 627ms/step - loss: 0.5176 - acc: 0.7406 - val_loss: 0.5328 - val_acc: 0.7448\n",
            "Epoch 119/250\n",
            "50/50 [==============================] - 31s 629ms/step - loss: 0.5202 - acc: 0.7325 - val_loss: 0.5201 - val_acc: 0.7474\n",
            "Epoch 120/250\n",
            "50/50 [==============================] - 31s 628ms/step - loss: 0.5156 - acc: 0.7438 - val_loss: 0.5205 - val_acc: 0.7188\n",
            "Epoch 121/250\n",
            "50/50 [==============================] - 31s 629ms/step - loss: 0.5226 - acc: 0.7438 - val_loss: 0.5250 - val_acc: 0.7448\n",
            "Epoch 122/250\n",
            "50/50 [==============================] - 31s 628ms/step - loss: 0.5345 - acc: 0.7294 - val_loss: 0.5184 - val_acc: 0.7318\n",
            "Epoch 123/250\n",
            "50/50 [==============================] - 31s 623ms/step - loss: 0.5143 - acc: 0.7394 - val_loss: 0.5126 - val_acc: 0.7500\n",
            "Epoch 124/250\n",
            "50/50 [==============================] - 31s 624ms/step - loss: 0.5176 - acc: 0.7425 - val_loss: 0.5127 - val_acc: 0.7500\n",
            "Epoch 125/250\n",
            "50/50 [==============================] - 31s 628ms/step - loss: 0.5110 - acc: 0.7400 - val_loss: 0.5073 - val_acc: 0.7500\n",
            "Epoch 126/250\n",
            "50/50 [==============================] - 31s 624ms/step - loss: 0.5159 - acc: 0.7331 - val_loss: 0.5109 - val_acc: 0.7474\n",
            "Epoch 127/250\n",
            "50/50 [==============================] - 31s 625ms/step - loss: 0.5096 - acc: 0.7381 - val_loss: 0.5080 - val_acc: 0.7630\n",
            "Epoch 128/250\n",
            "50/50 [==============================] - 31s 623ms/step - loss: 0.5102 - acc: 0.7331 - val_loss: 0.5054 - val_acc: 0.7448\n",
            "Epoch 129/250\n",
            "50/50 [==============================] - 32s 649ms/step - loss: 0.5098 - acc: 0.7350 - val_loss: 0.5473 - val_acc: 0.7135\n",
            "Epoch 130/250\n",
            "50/50 [==============================] - 33s 661ms/step - loss: 0.5080 - acc: 0.7525 - val_loss: 0.5128 - val_acc: 0.7422\n",
            "Epoch 131/250\n",
            "50/50 [==============================] - 33s 666ms/step - loss: 0.5081 - acc: 0.7488 - val_loss: 0.5173 - val_acc: 0.7292\n",
            "Epoch 132/250\n",
            "50/50 [==============================] - 33s 658ms/step - loss: 0.5172 - acc: 0.7469 - val_loss: 0.5116 - val_acc: 0.7604\n",
            "Epoch 133/250\n",
            "50/50 [==============================] - 33s 657ms/step - loss: 0.5079 - acc: 0.7412 - val_loss: 0.5109 - val_acc: 0.7474\n",
            "Epoch 134/250\n",
            "50/50 [==============================] - 33s 655ms/step - loss: 0.5056 - acc: 0.7419 - val_loss: 0.5121 - val_acc: 0.7370\n",
            "Epoch 135/250\n",
            "50/50 [==============================] - 33s 655ms/step - loss: 0.5057 - acc: 0.7475 - val_loss: 0.5089 - val_acc: 0.7396\n",
            "Epoch 136/250\n",
            "50/50 [==============================] - 33s 655ms/step - loss: 0.5166 - acc: 0.7438 - val_loss: 0.5257 - val_acc: 0.7396\n",
            "Epoch 137/250\n",
            "50/50 [==============================] - 33s 658ms/step - loss: 0.4967 - acc: 0.7550 - val_loss: 0.5016 - val_acc: 0.7474\n",
            "Epoch 138/250\n",
            "50/50 [==============================] - 33s 657ms/step - loss: 0.5087 - acc: 0.7581 - val_loss: 0.5056 - val_acc: 0.7474\n",
            "Epoch 139/250\n",
            "50/50 [==============================] - 33s 658ms/step - loss: 0.4945 - acc: 0.7488 - val_loss: 0.5154 - val_acc: 0.7370\n",
            "Epoch 140/250\n",
            "50/50 [==============================] - 33s 664ms/step - loss: 0.4940 - acc: 0.7481 - val_loss: 0.5162 - val_acc: 0.7396\n",
            "Epoch 141/250\n",
            "50/50 [==============================] - 33s 664ms/step - loss: 0.5008 - acc: 0.7525 - val_loss: 0.5123 - val_acc: 0.7500\n",
            "Epoch 142/250\n",
            "50/50 [==============================] - 33s 662ms/step - loss: 0.5069 - acc: 0.7500 - val_loss: 0.5184 - val_acc: 0.7396\n",
            "Epoch 143/250\n",
            "50/50 [==============================] - 33s 659ms/step - loss: 0.5105 - acc: 0.7369 - val_loss: 0.5088 - val_acc: 0.7422\n",
            "Epoch 144/250\n",
            "50/50 [==============================] - 33s 663ms/step - loss: 0.5041 - acc: 0.7488 - val_loss: 0.4997 - val_acc: 0.7422\n",
            "Epoch 145/250\n",
            "50/50 [==============================] - 33s 665ms/step - loss: 0.4937 - acc: 0.7488 - val_loss: 0.5039 - val_acc: 0.7526\n",
            "Epoch 146/250\n",
            "50/50 [==============================] - 33s 660ms/step - loss: 0.4947 - acc: 0.7581 - val_loss: 0.5204 - val_acc: 0.7318\n",
            "Epoch 147/250\n",
            "50/50 [==============================] - 32s 644ms/step - loss: 0.4906 - acc: 0.7644 - val_loss: 0.5383 - val_acc: 0.7188\n",
            "Epoch 148/250\n",
            "50/50 [==============================] - 32s 631ms/step - loss: 0.4932 - acc: 0.7631 - val_loss: 0.5056 - val_acc: 0.7552\n",
            "Epoch 149/250\n",
            "50/50 [==============================] - 31s 627ms/step - loss: 0.5072 - acc: 0.7425 - val_loss: 0.5279 - val_acc: 0.7344\n",
            "Epoch 150/250\n",
            "50/50 [==============================] - 31s 620ms/step - loss: 0.4917 - acc: 0.7588 - val_loss: 0.5472 - val_acc: 0.7474\n",
            "Epoch 151/250\n",
            "50/50 [==============================] - 31s 617ms/step - loss: 0.4909 - acc: 0.7594 - val_loss: 0.5097 - val_acc: 0.7474\n",
            "Epoch 152/250\n",
            "50/50 [==============================] - 31s 613ms/step - loss: 0.4909 - acc: 0.7631 - val_loss: 0.5126 - val_acc: 0.7474\n",
            "Epoch 153/250\n",
            "50/50 [==============================] - 31s 613ms/step - loss: 0.4902 - acc: 0.7569 - val_loss: 0.5282 - val_acc: 0.7266\n",
            "Epoch 154/250\n",
            "50/50 [==============================] - 31s 618ms/step - loss: 0.4939 - acc: 0.7638 - val_loss: 0.5225 - val_acc: 0.7292\n",
            "Epoch 00154: early stopping\n"
          ],
          "name": "stdout"
        }
      ]
    },
    {
      "metadata": {
        "id": "nAba5Wo_qnzP",
        "colab_type": "code",
        "outputId": "5fd3c46f-ddb2-4efd-86d8-1281a6656ec5",
        "colab": {
          "base_uri": "https://localhost:8080/",
          "height": 361
        }
      },
      "cell_type": "code",
      "source": [
        "# Get training and test loss histories\n",
        "training_loss = history.history['loss']\n",
        "test_loss = history.history['val_loss']\n",
        "\n",
        "# Create count of the number of epochs\n",
        "epoch_count = range(1, len(training_loss) + 1)\n",
        "\n",
        "# Visualize loss history\n",
        "plt.plot(epoch_count, training_loss, 'r--')\n",
        "plt.plot(epoch_count, test_loss, 'b-')\n",
        "plt.legend(['Training Loss', 'Test Loss'])\n",
        "plt.xlabel('Epoch')\n",
        "plt.ylabel('Loss')\n",
        "plt.show();"
      ],
      "execution_count": 14,
      "outputs": [
        {
          "output_type": "display_data",
          "data": {
            "image/png": "[encoded data removed]",
            "text/plain": [
              "<Figure size 576x396 with 1 Axes>"
            ]
          },
          "metadata": {
            "tags": []
          }
        }
      ]
    },
    {
      "metadata": {
        "id": "ePj6mJMsqnzT",
        "colab_type": "code",
        "outputId": "27700c07-99dc-4a17-deaf-681a58119e51",
        "colab": {
          "base_uri": "https://localhost:8080/",
          "height": 395
        }
      },
      "cell_type": "code",
      "source": [
        "# Plot Training History. \n",
        "# list all data in history \n",
        "print(history.history.keys()) \n",
        "\n",
        "# summarize history for accuracy \n",
        "plt.plot(history.history['acc']) \n",
        "plt.plot(history.history['val_acc']) \n",
        "plt.title('model accuracy') \n",
        "plt.ylabel('accuracy') \n",
        "plt.xlabel('epoch') \n",
        "plt.legend(['train', 'test'], loc='upper left') \n",
        "plt.show()"
      ],
      "execution_count": 15,
      "outputs": [
        {
          "output_type": "stream",
          "text": [
            "dict_keys(['val_loss', 'val_acc', 'loss', 'acc'])\n"
          ],
          "name": "stdout"
        },
        {
          "output_type": "display_data",
          "data": {
            "image/png": "[encoded data removed]",
            "text/plain": [
              "<Figure size 576x396 with 1 Axes>"
            ]
          },
          "metadata": {
            "tags": []
          }
        }
      ]
    },
    {
      "metadata": {
        "id": "U416elIdqnzX",
        "colab_type": "code",
        "outputId": "999cd01b-4e73-452c-f3f8-4d90577fc245",
        "colab": {
          "base_uri": "https://localhost:8080/",
          "height": 55
        }
      },
      "cell_type": "code",
      "source": [
        "print(model.trainable_weights)"
      ],
      "execution_count": 0,
      "outputs": [
        {
          "output_type": "stream",
          "text": [
            "[<tf.Variable 'conv2d_1/kernel:0' shape=(3, 3, 3, 48) dtype=float32_ref>, <tf.Variable 'conv2d_1/bias:0' shape=(48,) dtype=float32_ref>, <tf.Variable 'conv2d_2/kernel:0' shape=(3, 3, 48, 48) dtype=float32_ref>, <tf.Variable 'conv2d_2/bias:0' shape=(48,) dtype=float32_ref>, <tf.Variable 'conv2d_3/kernel:0' shape=(3, 3, 48, 64) dtype=float32_ref>, <tf.Variable 'conv2d_3/bias:0' shape=(64,) dtype=float32_ref>, <tf.Variable 'conv2d_4/kernel:0' shape=(3, 3, 64, 64) dtype=float32_ref>, <tf.Variable 'conv2d_4/bias:0' shape=(64,) dtype=float32_ref>, <tf.Variable 'conv2d_5/kernel:0' shape=(3, 3, 64, 128) dtype=float32_ref>, <tf.Variable 'conv2d_5/bias:0' shape=(128,) dtype=float32_ref>, <tf.Variable 'conv2d_6/kernel:0' shape=(3, 3, 128, 128) dtype=float32_ref>, <tf.Variable 'conv2d_6/bias:0' shape=(128,) dtype=float32_ref>, <tf.Variable 'conv2d_7/kernel:0' shape=(3, 3, 128, 256) dtype=float32_ref>, <tf.Variable 'conv2d_7/bias:0' shape=(256,) dtype=float32_ref>, <tf.Variable 'conv2d_8/kernel:0' shape=(3, 3, 256, 256) dtype=float32_ref>, <tf.Variable 'conv2d_8/bias:0' shape=(256,) dtype=float32_ref>, <tf.Variable 'conv2d_9/kernel:0' shape=(3, 3, 256, 512) dtype=float32_ref>, <tf.Variable 'conv2d_9/bias:0' shape=(512,) dtype=float32_ref>, <tf.Variable 'conv2d_10/kernel:0' shape=(3, 3, 512, 512) dtype=float32_ref>, <tf.Variable 'conv2d_10/bias:0' shape=(512,) dtype=float32_ref>, <tf.Variable 'dense_1/kernel:0' shape=(4608, 1024) dtype=float32_ref>, <tf.Variable 'dense_1/bias:0' shape=(1024,) dtype=float32_ref>, <tf.Variable 'dense_2/kernel:0' shape=(1024, 2) dtype=float32_ref>, <tf.Variable 'dense_2/bias:0' shape=(2,) dtype=float32_ref>]\n"
          ],
          "name": "stdout"
        }
      ]
    },
    {
      "metadata": {
        "id": "hHZw94rVqnzc",
        "colab_type": "code",
        "outputId": "7096340c-08b8-411f-9059-8a971f61021c",
        "colab": {
          "base_uri": "https://localhost:8080/",
          "height": 326
        }
      },
      "cell_type": "code",
      "source": [
        "from keras.preprocessing.image import ImageDataGenerator\n",
        "from sklearn.metrics import classification_report, confusion_matrix\n",
        "\n",
        "#Confution Matrix and Classification Report for Validation set\n",
        "Y_pred = model.predict_generator(validation_generator, 384//8,verbose=1)\n",
        "print(len(Y_pred))\n",
        "y_pred = np.argmax(Y_pred, axis=1)\n",
        "\n",
        "print('\\n\\nConfusion Matrix (Validation Image set)')\n",
        "print(confusion_matrix(validation_generator.classes, y_pred))\n",
        "print('Classification Report')\n",
        "target_names = ['Cardiomegaly', 'No Finding']\n",
        "print(classification_report(validation_generator.classes, y_pred, target_names=target_names))\n",
        "\n",
        "# validation_generator [200//2]\n",
        "# test_generator"
      ],
      "execution_count": 16,
      "outputs": [
        {
          "output_type": "stream",
          "text": [
            "48/48 [==============================] - 3s 54ms/step\n",
            "384\n",
            "\n",
            "\n",
            "Confusion Matrix (Validation Image set)\n",
            "[[113  79]\n",
            " [119  73]]\n",
            "Classification Report\n",
            "              precision    recall  f1-score   support\n",
            "\n",
            "Cardiomegaly       0.49      0.59      0.53       192\n",
            "  No Finding       0.48      0.38      0.42       192\n",
            "\n",
            "   micro avg       0.48      0.48      0.48       384\n",
            "   macro avg       0.48      0.48      0.48       384\n",
            "weighted avg       0.48      0.48      0.48       384\n",
            "\n"
          ],
          "name": "stdout"
        }
      ]
    },
    {
      "metadata": {
        "id": "z3CAu5Fhqnzh",
        "colab_type": "code",
        "outputId": "fbdc5b6f-6e8d-4ca6-e56e-41560bca8a8f",
        "colab": {
          "base_uri": "https://localhost:8080/",
          "height": 326
        }
      },
      "cell_type": "code",
      "source": [
        "# Confution Matrix and Classification Report for Test Image set\n",
        "Y_pred = model.predict_generator(test_generator, 200//1,verbose=1)\n",
        "print(len(Y_pred))\n",
        "y_pred = np.argmax(Y_pred, axis=1)\n",
        "\n",
        "print('\\n\\nConfusion Matrix (Test Image set)')\n",
        "print(confusion_matrix(test_generator.classes, y_pred))\n",
        "print('Classification Report')\n",
        "target_names = ['Cardiomegaly', 'No Finding']\n",
        "print(classification_report(test_generator.classes, y_pred, target_names=target_names))\n"
      ],
      "execution_count": 17,
      "outputs": [
        {
          "output_type": "stream",
          "text": [
            "200/200 [==============================] - 2s 12ms/step\n",
            "200\n",
            "\n",
            "\n",
            "Confusion Matrix (Test Image set)\n",
            "[[59 41]\n",
            " [70 30]]\n",
            "Classification Report\n",
            "              precision    recall  f1-score   support\n",
            "\n",
            "Cardiomegaly       0.46      0.59      0.52       100\n",
            "  No Finding       0.42      0.30      0.35       100\n",
            "\n",
            "   micro avg       0.45      0.45      0.45       200\n",
            "   macro avg       0.44      0.44      0.43       200\n",
            "weighted avg       0.44      0.45      0.43       200\n",
            "\n"
          ],
          "name": "stdout"
        }
      ]
    },
    {
      "metadata": {
        "id": "s-Oj1ubvqnzl",
        "colab_type": "code",
        "outputId": "69d199a1-2174-45c2-9bbe-2cfda734855b",
        "colab": {
          "base_uri": "https://localhost:8080/",
          "height": 35
        }
      },
      "cell_type": "code",
      "source": [
        "# serialize weights to HDF5\n",
        "model.save_weights(\"assign_1b_5_saved_model.h5\")\n",
        "print(\"Saved model to disk\")"
      ],
      "execution_count": 18,
      "outputs": [
        {
          "output_type": "stream",
          "text": [
            "Saved model to disk\n"
          ],
          "name": "stdout"
        }
      ]
    },
    {
      "metadata": {
        "id": "nyqMddexqnzr",
        "colab_type": "code",
        "colab": {}
      },
      "cell_type": "code",
      "source": [
        ""
      ],
      "execution_count": 0,
      "outputs": []
    },
    {
      "metadata": {
        "id": "cps33fAOqnzu",
        "colab_type": "code",
        "colab": {}
      },
      "cell_type": "code",
      "source": [
        ""
      ],
      "execution_count": 0,
      "outputs": []
    }
  ]
}